{
 "cells": [
  {
   "cell_type": "markdown",
   "metadata": {},
   "source": [
    "# Intensity recognition\n",
    "\n",
    "|Activity intensity|  MET range  |\n",
    "|------------------|-------------|\n",
    "| Light            | < 3.00      |\n",
    "| Moderate         | 3.00 - 5.99 |\n",
    "| Hard             | 6.00 - 8.99 |\n",
    "| Very hard        | > 8.99      |\n",
    "\n",
    "Activty count cut-points bu : Freedson et al.(1998)"
   ]
  },
  {
   "cell_type": "code",
   "execution_count": 98,
   "metadata": {},
   "outputs": [],
   "source": [
    "from helpers                 import pandas_helper as pdh, math_helper as mth\n",
    "from utils                   import read_functions\n",
    "from sensors.activpal        import *\n",
    "from sensors.vyntus          import *\n",
    "from sklearn.model_selection import train_test_split\n",
    "from sklearn.linear_model    import LogisticRegression\n",
    "from sklearn.ensemble        import RandomForestClassifier\n",
    "from sklearn.metrics         import confusion_matrix, classification_report, accuracy_score, precision_score, recall_score, roc_auc_score, f1_score\n",
    "\n",
    "import matplotlib.pyplot as plt\n",
    "import pandas            as pd\n",
    "\n",
    "activpal = Activpal()\n",
    "vyntus = Vyntus()\n",
    "\n",
    "respondents_df = pdh.read_csv_respondents()"
   ]
  },
  {
   "cell_type": "markdown",
   "metadata": {},
   "source": [
    "# Preparing dataset"
   ]
  },
  {
   "cell_type": "code",
   "execution_count": 80,
   "metadata": {},
   "outputs": [],
   "source": [
    "def get_vyntus_df(correspondent, start, stop):   \n",
    "    intensity_intervals = [0, 3, 5.99, 8.99, 1000]\n",
    "    intensity_labels    = ['Light', 'Moderate', 'Hard', 'Very Hard']\n",
    "    \n",
    "    vyntus_df = vyntus.read_data(correspondent, start, stop)\n",
    "    if vyntus_df.empty:\n",
    "        return pd.DataFrame()\n",
    "    \n",
    "    corr_number = int(correspondent.replace('BMR0', '')) \n",
    "    \n",
    "    weight = respondents_df['gewicht'][corr_number]\n",
    "\n",
    "    vyntus_df['vyn_VO2'] = [float(vo2.replace(',', '.')) if type(vo2) == str else vo2 for vo2 in vyntus_df['vyn_VO2']]\n",
    "    vyntus_df['met'] = mth.calculate_met(vyntus_df['vyn_VO2'], weight)    \n",
    "    vyntus_df['weight'] = weight\n",
    "    \n",
    "    vyntus_df =  vyntus_df.resample('60s').mean()[:-1]\n",
    "    \n",
    "    vyntus_df['intensity'] = pd.cut(vyntus_df.met, intensity_intervals, labels=intensity_labels)\n",
    "    \n",
    "    return vyntus_df;"
   ]
  },
  {
   "cell_type": "code",
   "execution_count": 81,
   "metadata": {},
   "outputs": [],
   "source": [
    "def get_activpal_df(correspondent, start, stop):\n",
    "    activpal_df = activpal.read_data(correspondent, start, stop)\n",
    "    \n",
    "    activpal_df = activpal_df[['pal_accX', 'pal_accY', 'pal_accZ']].apply(mth.convert_value_to_g)\n",
    "    \n",
    "    x_abs = abs(activpal_df['pal_accX'])\n",
    "    y_abs = abs(activpal_df['pal_accY'])\n",
    "    z_abs = abs(activpal_df['pal_accZ'])\n",
    "    \n",
    "    activpal_df['mag_acc'] = mth.to_mag_acceleration(x_abs, y_abs, z_abs)\n",
    "    \n",
    "    return activpal_df.resample('60s').sum()[:-1]"
   ]
  },
  {
   "cell_type": "code",
   "execution_count": 82,
   "metadata": {},
   "outputs": [],
   "source": [
    "def get_dataset_of_correspondent(correspondent):\n",
    "    dataset_df = pd.DataFrame(columns=['sum_mag_of_acc', 'mean_met', 'intensity', 'activity'], index=pd.to_datetime([]))\n",
    "    activities          = ['lopen', 'rennen', 'springen', 'staan', 'traplopen', 'zitten']\n",
    "    \n",
    "    # Getting dataset for a correspodent\n",
    "    activities_df = read_functions.read_activities(correspondent)\n",
    "\n",
    "    for activity_name in activities:\n",
    "        activity = activities_df.loc[activity_name]\n",
    "        \n",
    "        if not activity.empty:\n",
    "            \n",
    "            start_time = activity.start\n",
    "            stop_time = activity.stop\n",
    "            \n",
    "            activpal_df = get_activpal_df(correspondent, start_time, stop_time)\n",
    "            vyntus_df = get_vyntus_df(correspondent, start_time, stop_time)\n",
    "            \n",
    "            if not vyntus_df.empty and not activpal_df.empty:\n",
    "                activity_dataset_df = pd.DataFrame(index=activpal_df.index)\n",
    "\n",
    "                activity_dataset_df['mean_met']       = vyntus_df['met']\n",
    "                activity_dataset_df['sum_mag_of_acc'] = activpal_df['mag_acc']\n",
    "                activity_dataset_df['weight']         = vyntus_df['weight']\n",
    "                activity_dataset_df['intensity']      = vyntus_df['intensity']\n",
    "                activity_dataset_df['activity']       = activity_name            \n",
    "                \n",
    "                activity_dataset_df.dropna(how='any', inplace=True)\n",
    "                \n",
    "                dataset_df = pd.concat([activity_dataset_df, dataset_df])\n",
    "        \n",
    "    return dataset_df   "
   ]
  },
  {
   "cell_type": "code",
   "execution_count": 83,
   "metadata": {},
   "outputs": [],
   "source": [
    "def create_dataset_from_all_correspondents():\n",
    "    dataset_df = pd.DataFrame(index=pd.to_datetime([]))\n",
    "\n",
    "    for directory in os.walk('../../data'):\n",
    "        if directory[0] == '../../data':\n",
    "            for respDirect in directory[1]:\n",
    "                if respDirect not in ['output', 'throughput', 'Test data','.ipynb_checkpoints', 'BMR025', 'BMR035', 'BMR100', 'BMR051', 'BMR027']:\n",
    "                    print(\"Extracting \" + respDirect)\n",
    "                    correspondent_dataset_df = get_dataset_of_correspondent(respDirect)\n",
    "                    dataset_df = pd.concat([dataset_df, correspondent_dataset_df])\n",
    "\n",
    "    print(\"Done creating dataset\")\n",
    "\n",
    "    return dataset_df"
   ]
  },
  {
   "cell_type": "code",
   "execution_count": 84,
   "metadata": {},
   "outputs": [
    {
     "name": "stdout",
     "output_type": "stream",
     "text": [
      "Extracting BMR099\n",
      "Extracting BMR060\n",
      "No data for respondnet: BMR060\n",
      "No data for respondnet: BMR060\n",
      "No data for respondnet: BMR060\n",
      "No data for respondnet: BMR060\n",
      "No data for respondnet: BMR060\n",
      "No data for respondnet: BMR060\n",
      "Extracting BMR012\n",
      "Extracting BMR030\n",
      "Extracting BMR044\n",
      "Extracting BMR043\n",
      "Extracting BMR004\n",
      "Extracting BMR011\n",
      "Extracting BMR098\n",
      "Extracting BMR034\n",
      "Extracting BMR014\n",
      "Extracting BMR036\n",
      "Extracting BMR052\n",
      "Extracting BMR002\n",
      "Extracting BMR031\n",
      "Extracting BMR097\n",
      "Extracting BMR008\n",
      "Extracting BMR015\n",
      "Extracting BMR033\n",
      "Extracting BMR064\n",
      "Extracting BMR055\n",
      "Extracting BMR041\n",
      "Extracting BMR053\n",
      "Extracting BMR042\n",
      "Extracting BMR018\n",
      "Extracting BMR058\n",
      "Extracting BMR040\n",
      "Extracting BMR032\n",
      "Done creating dataset\n"
     ]
    }
   ],
   "source": [
    "dataset = create_dataset_from_all_correspondents()"
   ]
  },
  {
   "cell_type": "markdown",
   "metadata": {},
   "source": [
    "## Dataset analysis"
   ]
  },
  {
   "cell_type": "code",
   "execution_count": 85,
   "metadata": {},
   "outputs": [
    {
     "data": {
      "image/png": "[encoded data removed]",
      "text/plain": [
       "<Figure size 432x288 with 1 Axes>"
      ]
     },
     "metadata": {
      "needs_background": "light"
     },
     "output_type": "display_data"
    }
   ],
   "source": [
    "def plot_intensity_on_accel(dataset):\n",
    "    light = dataset.loc[(dataset['intensity'] == 'Light') ]\n",
    "    moderate = dataset.loc[(dataset['intensity'] == 'Moderate') ]\n",
    "    hard = dataset.loc[(dataset['intensity'] == 'Hard') ]\n",
    "    very_hard = dataset.loc[(dataset['intensity'] == 'Very Hard') ]\n",
    "    \n",
    "    plt.scatter(light['sum_mag_of_acc'],     light['mean_met'],    marker='.', label='light')\n",
    "    plt.scatter(moderate['sum_mag_of_acc'],  moderate['mean_met'], marker='.', label='light')\n",
    "    plt.scatter(hard['sum_mag_of_acc'],      hard['mean_met'],     marker='.', label='hard')\n",
    "    plt.scatter(very_hard['sum_mag_of_acc'], very_hard['mean_met'],marker='.', label='very_hard')\n",
    "\n",
    "\n",
    "    plt.xlabel('mean_met')\n",
    "    plt.ylabel('sum of magnitude of acceleration')\n",
    "    plt.legend()\n",
    "    plt.show()\n",
    "\n",
    "plot_intensity_on_accel(dataset)"
   ]
  },
  {
   "cell_type": "code",
   "execution_count": 86,
   "metadata": {},
   "outputs": [
    {
     "data": {
      "text/plain": [
       "<matplotlib.axes._subplots.AxesSubplot at 0x7f0cfece8198>"
      ]
     },
     "execution_count": 86,
     "metadata": {},
     "output_type": "execute_result"
    },
    {
     "data": {
      "image/png": "[encoded data removed]",
      "text/plain": [
       "<Figure size 432x288 with 1 Axes>"
      ]
     },
     "metadata": {
      "needs_background": "light"
     },
     "output_type": "display_data"
    }
   ],
   "source": [
    "dataset['intensity'].value_counts().plot.bar(ylabel='rows count',xlabel='intensity')"
   ]
  },
  {
   "cell_type": "markdown",
   "metadata": {},
   "source": [
    "## Defining categories"
   ]
  },
  {
   "cell_type": "code",
   "execution_count": 87,
   "metadata": {},
   "outputs": [
    {
     "data": {
      "text/html": [
       "<div>\n",
       "<style scoped>\n",
       "    .dataframe tbody tr th:only-of-type {\n",
       "        vertical-align: middle;\n",
       "    }\n",
       "\n",
       "    .dataframe tbody tr th {\n",
       "        vertical-align: top;\n",
       "    }\n",
       "\n",
       "    .dataframe thead th {\n",
       "        text-align: right;\n",
       "    }\n",
       "</style>\n",
       "<table border=\"1\" class=\"dataframe\">\n",
       "  <thead>\n",
       "    <tr style=\"text-align: right;\">\n",
       "      <th></th>\n",
       "      <th>mean_met</th>\n",
       "      <th>sum_mag_of_acc</th>\n",
       "      <th>weight</th>\n",
       "      <th>intensity</th>\n",
       "      <th>activity</th>\n",
       "      <th>intensity_light</th>\n",
       "      <th>intensity_moderate</th>\n",
       "      <th>intensity_hard</th>\n",
       "      <th>intensity_very_hard</th>\n",
       "    </tr>\n",
       "  </thead>\n",
       "  <tbody>\n",
       "    <tr>\n",
       "      <th>2019-09-12 10:38:00</th>\n",
       "      <td>1.658801</td>\n",
       "      <td>977.310095</td>\n",
       "      <td>64.0</td>\n",
       "      <td>Light</td>\n",
       "      <td>zitten</td>\n",
       "      <td>1</td>\n",
       "      <td>0</td>\n",
       "      <td>0</td>\n",
       "      <td>0</td>\n",
       "    </tr>\n",
       "    <tr>\n",
       "      <th>2019-09-12 10:39:00</th>\n",
       "      <td>1.505580</td>\n",
       "      <td>1429.448879</td>\n",
       "      <td>64.0</td>\n",
       "      <td>Light</td>\n",
       "      <td>zitten</td>\n",
       "      <td>1</td>\n",
       "      <td>0</td>\n",
       "      <td>0</td>\n",
       "      <td>0</td>\n",
       "    </tr>\n",
       "    <tr>\n",
       "      <th>2019-09-12 10:40:00</th>\n",
       "      <td>1.548363</td>\n",
       "      <td>1419.886845</td>\n",
       "      <td>64.0</td>\n",
       "      <td>Light</td>\n",
       "      <td>zitten</td>\n",
       "      <td>1</td>\n",
       "      <td>0</td>\n",
       "      <td>0</td>\n",
       "      <td>0</td>\n",
       "    </tr>\n",
       "    <tr>\n",
       "      <th>2019-09-12 10:41:00</th>\n",
       "      <td>1.508185</td>\n",
       "      <td>1419.545634</td>\n",
       "      <td>64.0</td>\n",
       "      <td>Light</td>\n",
       "      <td>zitten</td>\n",
       "      <td>1</td>\n",
       "      <td>0</td>\n",
       "      <td>0</td>\n",
       "      <td>0</td>\n",
       "    </tr>\n",
       "    <tr>\n",
       "      <th>2019-09-12 10:42:00</th>\n",
       "      <td>1.438616</td>\n",
       "      <td>1426.501272</td>\n",
       "      <td>64.0</td>\n",
       "      <td>Light</td>\n",
       "      <td>zitten</td>\n",
       "      <td>1</td>\n",
       "      <td>0</td>\n",
       "      <td>0</td>\n",
       "      <td>0</td>\n",
       "    </tr>\n",
       "  </tbody>\n",
       "</table>\n",
       "</div>"
      ],
      "text/plain": [
       "                     mean_met  sum_mag_of_acc  weight intensity activity  \\\n",
       "2019-09-12 10:38:00  1.658801      977.310095    64.0     Light   zitten   \n",
       "2019-09-12 10:39:00  1.505580     1429.448879    64.0     Light   zitten   \n",
       "2019-09-12 10:40:00  1.548363     1419.886845    64.0     Light   zitten   \n",
       "2019-09-12 10:41:00  1.508185     1419.545634    64.0     Light   zitten   \n",
       "2019-09-12 10:42:00  1.438616     1426.501272    64.0     Light   zitten   \n",
       "\n",
       "                     intensity_light  intensity_moderate  intensity_hard  \\\n",
       "2019-09-12 10:38:00                1                   0               0   \n",
       "2019-09-12 10:39:00                1                   0               0   \n",
       "2019-09-12 10:40:00                1                   0               0   \n",
       "2019-09-12 10:41:00                1                   0               0   \n",
       "2019-09-12 10:42:00                1                   0               0   \n",
       "\n",
       "                     intensity_very_hard  \n",
       "2019-09-12 10:38:00                    0  \n",
       "2019-09-12 10:39:00                    0  \n",
       "2019-09-12 10:40:00                    0  \n",
       "2019-09-12 10:41:00                    0  \n",
       "2019-09-12 10:42:00                    0  "
      ]
     },
     "execution_count": 87,
     "metadata": {},
     "output_type": "execute_result"
    }
   ],
   "source": [
    "intensity_columns          = ['intensity_light', 'intensity_moderate', 'intensity_hard', 'intensity_very_hard']\n",
    "dataset[intensity_columns] = 0\n",
    "\n",
    "dataset.loc[(dataset['intensity'] == 'Light'),    'intensity_light']       = 1\n",
    "dataset.loc[(dataset['intensity'] == 'Moderate'), 'intensity_moderate']    = 1\n",
    "dataset.loc[(dataset['intensity'] == 'Hard'),     'intensity_hard']        = 1\n",
    "dataset.loc[(dataset['intensity'] == 'Very Hard'),'intensity_very_hard']   = 1\n",
    "\n",
    "dataset.dropna(how='any', inplace=True)\n",
    "\n",
    "dataset.head()"
   ]
  },
  {
   "cell_type": "markdown",
   "metadata": {},
   "source": [
    "## Splitting dataset"
   ]
  },
  {
   "cell_type": "code",
   "execution_count": 88,
   "metadata": {},
   "outputs": [
    {
     "data": {
      "text/plain": [
       "526"
      ]
     },
     "execution_count": 88,
     "metadata": {},
     "output_type": "execute_result"
    }
   ],
   "source": [
    "x = dataset[['sum_mag_of_acc', 'weight']]\n",
    "y = dataset[intensity_columns]\n",
    "\n",
    "train_x, valid_x, train_y, valid_y = train_test_split(x, y, test_size=0.2, random_state=23, stratify=y)\n",
    "\n",
    "len(x)"
   ]
  },
  {
   "cell_type": "markdown",
   "metadata": {},
   "source": [
    "## Training dataset"
   ]
  },
  {
   "cell_type": "code",
   "execution_count": 106,
   "metadata": {},
   "outputs": [
    {
     "data": {
      "text/plain": [
       "RandomForestClassifier(n_estimators=115, random_state=0)"
      ]
     },
     "execution_count": 106,
     "metadata": {},
     "output_type": "execute_result"
    }
   ],
   "source": [
    "rfc = RandomForestClassifier(n_estimators=115,random_state=0)\n",
    "rfc.fit(train_x, train_y)"
   ]
  },
  {
   "cell_type": "code",
   "execution_count": 107,
   "metadata": {},
   "outputs": [],
   "source": [
    "prediction_y = rfc.predict(valid_x)"
   ]
  },
  {
   "cell_type": "markdown",
   "metadata": {},
   "source": [
    "## Result analysis"
   ]
  },
  {
   "cell_type": "code",
   "execution_count": 108,
   "metadata": {},
   "outputs": [
    {
     "data": {
      "text/plain": [
       "0.8018867924528302"
      ]
     },
     "execution_count": 108,
     "metadata": {},
     "output_type": "execute_result"
    }
   ],
   "source": [
    "accuracy_score(valid_y, prediction_y, normalize=True)"
   ]
  },
  {
   "cell_type": "code",
   "execution_count": 109,
   "metadata": {},
   "outputs": [
    {
     "name": "stdout",
     "output_type": "stream",
     "text": [
      "                     precision    recall  f1-score   support\n",
      "\n",
      "    intensity_light       0.86      0.92      0.89        61\n",
      " intensity_moderate       0.79      0.63      0.70        30\n",
      "     intensity_hard       0.57      0.44      0.50         9\n",
      "intensity_very_hard       0.60      1.00      0.75         6\n",
      "\n",
      "          micro avg       0.80      0.80      0.80       106\n",
      "          macro avg       0.71      0.75      0.71       106\n",
      "       weighted avg       0.80      0.80      0.80       106\n",
      "        samples avg       0.80      0.80      0.80       106\n",
      "\n"
     ]
    }
   ],
   "source": [
    "print(classification_report(valid_y, prediction_y, target_names=intensity_columns, zero_division=0))"
   ]
  },
  {
   "cell_type": "markdown",
   "metadata": {},
   "source": [
    "## Tune hyperparameteres"
   ]
  },
  {
   "cell_type": "code",
   "execution_count": 103,
   "metadata": {},
   "outputs": [],
   "source": [
    "#### Quick analysis\n",
    "accuracy_scores = []\n",
    "f1_scores = []\n",
    "#precision_scores = []\n",
    "\n",
    "n_estimator_numbers = range(1,300)\n",
    "\n",
    "for i in n_estimator_numbers:\n",
    "    rfc_t = RandomForestClassifier(n_estimators=i, random_state=0)\n",
    "    rfc_t.fit(train_x, train_y)\n",
    "    \n",
    "    predictions = rfc_t.predict(valid_x)\n",
    "    \n",
    "    accuracy_scores.append(accuracy_score(valid_y, predictions, normalize=True))\n",
    "    f1_scores.append(f1_score(valid_y, predictions, average='micro' ))\n",
    "    #precision_scores.append(precision_score(valid_y, predictions, average='micro'))"
   ]
  },
  {
   "cell_type": "code",
   "execution_count": 104,
   "metadata": {},
   "outputs": [
    {
     "data": {
      "text/plain": [
       "<matplotlib.legend.Legend at 0x7f0cfd3dbeb8>"
      ]
     },
     "execution_count": 104,
     "metadata": {},
     "output_type": "execute_result"
    },
    {
     "data": {
      "image/png": "[encoded data removed]",
      "text/plain": [
       "<Figure size 432x288 with 1 Axes>"
      ]
     },
     "metadata": {
      "needs_background": "light"
     },
     "output_type": "display_data"
    }
   ],
   "source": [
    "plt.plot(n_estimator_numbers, accuracy_scores, label='accuracy')\n",
    "plt.plot(n_estimator_numbers, f1_scores, label='f1')\n",
    "\n",
    "plt.xlabel('Trees')\n",
    "plt.ylabel('score')\n",
    "#plt.plot(n_estimator_numbers, precision_scores, label='precision')\n",
    "\n",
    "plt.legend()"
   ]
  },
  {
   "cell_type": "code",
   "execution_count": 105,
   "metadata": {},
   "outputs": [
    {
     "name": "stdout",
     "output_type": "stream",
     "text": [
      "accuracy:  115\n",
      "f1:  115\n"
     ]
    }
   ],
   "source": [
    "np_accuracy_scores = np.array(accuracy_scores)\n",
    "np_f1_scores = np.array(f1_scores)\n",
    "\n",
    "best_accuracy_index = np.argmax(np_accuracy_scores)\n",
    "best_f1_index = np.argmax(np_f1_scores)\n",
    "\n",
    "print('accuracy: ', n_estimator_numbers[best_accuracy_index])\n",
    "print('f1: ', n_estimator_numbers[best_f1_index])"
   ]
  },
  {
   "cell_type": "code",
   "execution_count": null,
   "metadata": {},
   "outputs": [],
   "source": []
  }
 ],
 "metadata": {
  "kernelspec": {
   "display_name": "Python 3",
   "language": "python",
   "name": "python3"
  },
  "language_info": {
   "codemirror_mode": {
    "name": "ipython",
    "version": 3
   },
   "file_extension": ".py",
   "mimetype": "text/x-python",
   "name": "python",
   "nbconvert_exporter": "python",
   "pygments_lexer": "ipython3",
   "version": "3.6.10"
  }
 },
 "nbformat": 4,
 "nbformat_minor": 4
}
