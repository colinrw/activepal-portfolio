{
 "cells": [
  {
   "cell_type": "code",
   "execution_count": 54,
   "metadata": {},
   "outputs": [],
   "source": [
    "from helpers import math_helper\n",
    "from sensors.activpal import *\n",
    "from utils import read_functions\n",
    "from scipy import signal\n",
    "from sklearn.model_selection import train_test_split\n",
    "from sklearn import tree\n",
    "from sklearn.metrics import f1_score, plot_confusion_matrix, confusion_matrix, accuracy_score, precision_score, recall_score, confusion_matrix, classification_report\n",
    "from sklearn.ensemble import RandomForestClassifier\n",
    "\n",
    "import pandas as pd\n",
    "import numpy as np\n",
    "import statistics\n",
    "import os\n",
    "\n",
    "import matplotlib.pyplot as plt"
   ]
  },
  {
   "cell_type": "markdown",
   "metadata": {},
   "source": [
    "Adnan Akbas\n",
    "# Feature Extraction"
   ]
  },
  {
   "cell_type": "code",
   "execution_count": 55,
   "metadata": {},
   "outputs": [],
   "source": [
    "activpal = Activpal()\n",
    "\n",
    "features_columns = ['standard_deviation_x', 'mean_x', 'standard_deviation_y', 'mean_y','standard_deviation_z', 'mean_z', 'activiteit']\n",
    "\n",
    "#activity_columns = ['activity_walking', 'activity_running', 'activity_jumping', 'activity_standing', 'activity_traplopen', 'activity_sitten']\n",
    "activity_columns = ['cycling_light','cycling_hard', 'activity_walking', 'activity_running', 'activity_jumping', 'activity_standing', 'activity_traplopen', 'activity_sitten']\n",
    "#activity_columns = ['activity_walking', 'activity_running', 'activity_standing', 'activity_sitten']\n",
    "\n",
    "#activities = ['lopen', 'rennen', 'springen', 'staan', 'traplopen', 'zitten']\n",
    "activities = ['fietsen licht', 'fietsen zwaar', 'lopen', 'rennen', 'springen', 'staan', 'traplopen', 'zitten']\n",
    "#activities = ['lopen', 'rennen', 'staan', 'zitten']\n",
    "\n",
    "test_users = ['BMR002', 'BMR004', 'BMR008']\n",
    "segment_size = 9.4"
   ]
  },
  {
   "cell_type": "code",
   "execution_count": 56,
   "metadata": {},
   "outputs": [],
   "source": [
    "def extract_features_from_correspondent(correspondent):\n",
    "    features_df = pd.DataFrame(columns=features_columns, index=pd.to_datetime([]))\n",
    "\n",
    "    # Getting dataset for a correspodent\n",
    "    activities_df = read_functions.read_activities(correspondent)\n",
    "        \n",
    "    for activity_name in activities:\n",
    "        activity = activities_df.loc[activity_name]\n",
    "        if not activity.empty:\n",
    "            start_time = activity.start\n",
    "            stop_time = activity.stop\n",
    "            activpal_df = activpal.read_data(correspondent, start_time, stop_time)\n",
    "\n",
    "            # denormalizing dataset\n",
    "            activpal_df['x'] = math_helper.convert_value_to_g(activpal_df['pal_accX'])\n",
    "            activpal_df['y'] = math_helper.convert_value_to_g(activpal_df['pal_accY'])\n",
    "            activpal_df['z'] = math_helper.convert_value_to_g(activpal_df['pal_accZ'])\n",
    "\n",
    "            date_range = pd.date_range(start_time, stop_time, freq=str(segment_size) + 'S')\n",
    "            \n",
    "            for time in date_range:\n",
    "                segment_time = time + pd.DateOffset(seconds=segment_size)\n",
    "                activpal_segment = activpal_df[(activpal_df.index >= time) & (activpal_df.index <= segment_time)]\n",
    "\n",
    "                stdev_x =  statistics.stdev(activpal_segment['x']) if len(activpal_segment['x']) >= 2 else 0\n",
    "                mean_x = activpal_segment['x'].mean()\n",
    "\n",
    "                stdev_y =  statistics.stdev(activpal_segment['y']) if len(activpal_segment['y']) >= 2 else 0\n",
    "                mean_y = activpal_segment['y'].mean()\n",
    "\n",
    "                stdev_z =  statistics.stdev(activpal_segment['z']) if len(activpal_segment['z']) >= 2 else 0\n",
    "                mean_z = activpal_segment['z'].mean()  \n",
    "\n",
    "\n",
    "                features_df.loc[segment_time] = [stdev_x, mean_x, stdev_y, mean_y, stdev_z, mean_z, activity_name]\n",
    "\n",
    "    return features_df"
   ]
  },
  {
   "cell_type": "code",
   "execution_count": 57,
   "metadata": {},
   "outputs": [],
   "source": [
    "def extract_features_from_all_correspondents():\n",
    "    all_features_df = pd.DataFrame(index=pd.to_datetime([]))\n",
    "\n",
    "    for directory in os.walk('../../data'):\n",
    "        if directory[0] == '../../data':\n",
    "            for respDirect in directory[1]:\n",
    "                if respDirect not in ['output', 'throughput', 'Test data','.ipynb_checkpoints', 'BMR035', 'BMR100', 'BMR051', 'BMR027']:\n",
    "                  #  if respDirect not in test_users:\n",
    "                    print(\"Extracting \" + respDirect)\n",
    "                    features_df = extract_features_from_correspondent(respDirect)\n",
    "                    all_features_df = pd.concat([all_features_df, features_df])\n",
    "\n",
    "    print(\"Done extracting features\")\n",
    "\n",
    "    return all_features_df"
   ]
  },
  {
   "cell_type": "code",
   "execution_count": 58,
   "metadata": {},
   "outputs": [
    {
     "name": "stdout",
     "output_type": "stream",
     "text": [
      "Extracting BMR099\n",
      "Extracting BMR025\n",
      "Extracting BMR060\n",
      "Extracting BMR012\n",
      "Extracting BMR030\n",
      "Extracting BMR044\n",
      "Extracting BMR043\n",
      "Extracting BMR004\n",
      "Extracting BMR011\n",
      "Extracting BMR098\n",
      "Extracting BMR034\n",
      "Extracting BMR014\n",
      "Extracting BMR036\n",
      "Extracting BMR052\n",
      "Extracting BMR002\n",
      "Extracting BMR031\n",
      "Extracting BMR097\n",
      "Extracting BMR008\n",
      "Extracting BMR015\n",
      "Extracting BMR033\n",
      "Extracting BMR064\n",
      "Extracting BMR055\n",
      "Extracting BMR041\n",
      "Extracting BMR053\n",
      "Extracting BMR042\n",
      "Extracting BMR018\n",
      "Extracting BMR058\n",
      "Extracting BMR040\n",
      "Extracting BMR032\n",
      "Done extracting features\n"
     ]
    }
   ],
   "source": [
    "features_dataset = extract_features_from_all_correspondents()"
   ]
  },
  {
   "cell_type": "code",
   "execution_count": 59,
   "metadata": {},
   "outputs": [
    {
     "data": {
      "text/plain": [
       "<matplotlib.axes._subplots.AxesSubplot at 0x7f12fddc4908>"
      ]
     },
     "execution_count": 59,
     "metadata": {},
     "output_type": "execute_result"
    },
    {
     "data": {
      "image/png": "[encoded data removed]",
      "text/plain": [
       "<Figure size 432x288 with 1 Axes>"
      ]
     },
     "metadata": {
      "needs_background": "light"
     },
     "output_type": "display_data"
    }
   ],
   "source": [
    "features_dataset['activiteit'].value_counts().plot.bar(ylabel='rows count',xlabel='activties',title='balanced')"
   ]
  },
  {
   "cell_type": "markdown",
   "metadata": {},
   "source": [
    "# model preperation"
   ]
  },
  {
   "cell_type": "code",
   "execution_count": 60,
   "metadata": {},
   "outputs": [
    {
     "data": {
      "text/html": [
       "<div>\n",
       "<style scoped>\n",
       "    .dataframe tbody tr th:only-of-type {\n",
       "        vertical-align: middle;\n",
       "    }\n",
       "\n",
       "    .dataframe tbody tr th {\n",
       "        vertical-align: top;\n",
       "    }\n",
       "\n",
       "    .dataframe thead th {\n",
       "        text-align: right;\n",
       "    }\n",
       "</style>\n",
       "<table border=\"1\" class=\"dataframe\">\n",
       "  <thead>\n",
       "    <tr style=\"text-align: right;\">\n",
       "      <th></th>\n",
       "      <th>standard_deviation_x</th>\n",
       "      <th>mean_x</th>\n",
       "      <th>standard_deviation_y</th>\n",
       "      <th>mean_y</th>\n",
       "      <th>standard_deviation_z</th>\n",
       "      <th>mean_z</th>\n",
       "      <th>cycling_light</th>\n",
       "      <th>cycling_hard</th>\n",
       "      <th>activity_walking</th>\n",
       "      <th>activity_running</th>\n",
       "      <th>activity_jumping</th>\n",
       "      <th>activity_standing</th>\n",
       "      <th>activity_traplopen</th>\n",
       "      <th>activity_sitten</th>\n",
       "    </tr>\n",
       "  </thead>\n",
       "  <tbody>\n",
       "    <tr>\n",
       "      <th>2019-09-12 10:25:05.400</th>\n",
       "      <td>0.433126</td>\n",
       "      <td>-0.671986</td>\n",
       "      <td>0.133191</td>\n",
       "      <td>0.136694</td>\n",
       "      <td>0.157682</td>\n",
       "      <td>0.843887</td>\n",
       "      <td>1</td>\n",
       "      <td>0</td>\n",
       "      <td>0</td>\n",
       "      <td>0</td>\n",
       "      <td>0</td>\n",
       "      <td>0</td>\n",
       "      <td>0</td>\n",
       "      <td>0</td>\n",
       "    </tr>\n",
       "    <tr>\n",
       "      <th>2019-09-12 10:25:14.800</th>\n",
       "      <td>0.421084</td>\n",
       "      <td>-0.679500</td>\n",
       "      <td>0.122672</td>\n",
       "      <td>0.129010</td>\n",
       "      <td>0.152290</td>\n",
       "      <td>0.861871</td>\n",
       "      <td>1</td>\n",
       "      <td>0</td>\n",
       "      <td>0</td>\n",
       "      <td>0</td>\n",
       "      <td>0</td>\n",
       "      <td>0</td>\n",
       "      <td>0</td>\n",
       "      <td>0</td>\n",
       "    </tr>\n",
       "    <tr>\n",
       "      <th>2019-09-12 10:25:24.200</th>\n",
       "      <td>0.447636</td>\n",
       "      <td>-0.665231</td>\n",
       "      <td>0.126320</td>\n",
       "      <td>0.130024</td>\n",
       "      <td>0.170394</td>\n",
       "      <td>0.852837</td>\n",
       "      <td>1</td>\n",
       "      <td>0</td>\n",
       "      <td>0</td>\n",
       "      <td>0</td>\n",
       "      <td>0</td>\n",
       "      <td>0</td>\n",
       "      <td>0</td>\n",
       "      <td>0</td>\n",
       "    </tr>\n",
       "    <tr>\n",
       "      <th>2019-09-12 10:25:33.600</th>\n",
       "      <td>0.441681</td>\n",
       "      <td>-0.689547</td>\n",
       "      <td>0.128438</td>\n",
       "      <td>0.126309</td>\n",
       "      <td>0.166221</td>\n",
       "      <td>0.861364</td>\n",
       "      <td>1</td>\n",
       "      <td>0</td>\n",
       "      <td>0</td>\n",
       "      <td>0</td>\n",
       "      <td>0</td>\n",
       "      <td>0</td>\n",
       "      <td>0</td>\n",
       "      <td>0</td>\n",
       "    </tr>\n",
       "    <tr>\n",
       "      <th>2019-09-12 10:25:43.000</th>\n",
       "      <td>0.449540</td>\n",
       "      <td>-0.659068</td>\n",
       "      <td>0.142767</td>\n",
       "      <td>0.132303</td>\n",
       "      <td>0.162122</td>\n",
       "      <td>0.850473</td>\n",
       "      <td>1</td>\n",
       "      <td>0</td>\n",
       "      <td>0</td>\n",
       "      <td>0</td>\n",
       "      <td>0</td>\n",
       "      <td>0</td>\n",
       "      <td>0</td>\n",
       "      <td>0</td>\n",
       "    </tr>\n",
       "  </tbody>\n",
       "</table>\n",
       "</div>"
      ],
      "text/plain": [
       "                         standard_deviation_x    mean_x  standard_deviation_y  \\\n",
       "2019-09-12 10:25:05.400              0.433126 -0.671986              0.133191   \n",
       "2019-09-12 10:25:14.800              0.421084 -0.679500              0.122672   \n",
       "2019-09-12 10:25:24.200              0.447636 -0.665231              0.126320   \n",
       "2019-09-12 10:25:33.600              0.441681 -0.689547              0.128438   \n",
       "2019-09-12 10:25:43.000              0.449540 -0.659068              0.142767   \n",
       "\n",
       "                           mean_y  standard_deviation_z    mean_z  \\\n",
       "2019-09-12 10:25:05.400  0.136694              0.157682  0.843887   \n",
       "2019-09-12 10:25:14.800  0.129010              0.152290  0.861871   \n",
       "2019-09-12 10:25:24.200  0.130024              0.170394  0.852837   \n",
       "2019-09-12 10:25:33.600  0.126309              0.166221  0.861364   \n",
       "2019-09-12 10:25:43.000  0.132303              0.162122  0.850473   \n",
       "\n",
       "                         cycling_light  cycling_hard  activity_walking  \\\n",
       "2019-09-12 10:25:05.400              1             0                 0   \n",
       "2019-09-12 10:25:14.800              1             0                 0   \n",
       "2019-09-12 10:25:24.200              1             0                 0   \n",
       "2019-09-12 10:25:33.600              1             0                 0   \n",
       "2019-09-12 10:25:43.000              1             0                 0   \n",
       "\n",
       "                         activity_running  activity_jumping  \\\n",
       "2019-09-12 10:25:05.400                 0                 0   \n",
       "2019-09-12 10:25:14.800                 0                 0   \n",
       "2019-09-12 10:25:24.200                 0                 0   \n",
       "2019-09-12 10:25:33.600                 0                 0   \n",
       "2019-09-12 10:25:43.000                 0                 0   \n",
       "\n",
       "                         activity_standing  activity_traplopen  \\\n",
       "2019-09-12 10:25:05.400                  0                   0   \n",
       "2019-09-12 10:25:14.800                  0                   0   \n",
       "2019-09-12 10:25:24.200                  0                   0   \n",
       "2019-09-12 10:25:33.600                  0                   0   \n",
       "2019-09-12 10:25:43.000                  0                   0   \n",
       "\n",
       "                         activity_sitten  \n",
       "2019-09-12 10:25:05.400                0  \n",
       "2019-09-12 10:25:14.800                0  \n",
       "2019-09-12 10:25:24.200                0  \n",
       "2019-09-12 10:25:33.600                0  \n",
       "2019-09-12 10:25:43.000                0  "
      ]
     },
     "execution_count": 60,
     "metadata": {},
     "output_type": "execute_result"
    }
   ],
   "source": [
    "features_dataset[activity_columns] = 0\n",
    "\n",
    "features_dataset.loc[(features_dataset['activiteit'] == 'lopen'), 'activity_walking'] = 1\n",
    "features_dataset.loc[(features_dataset['activiteit'] == 'rennen'), 'activity_running'] = 1\n",
    "features_dataset.loc[(features_dataset['activiteit'] == 'springen'), 'activity_jumping'] = 1\n",
    "features_dataset.loc[(features_dataset['activiteit'] == 'staan'), 'activity_standing'] = 1\n",
    "features_dataset.loc[(features_dataset['activiteit'] == 'traplopen'), 'activity_traplopen'] = 1\n",
    "features_dataset.loc[(features_dataset['activiteit'] == 'zitten'), 'activity_sitten'] = 1\n",
    "features_dataset.loc[(features_dataset['activiteit'] == 'fietsen licht'), 'cycling_light'] = 1\n",
    "features_dataset.loc[(features_dataset['activiteit'] == 'fietsen zwaar'), 'cycling_hard'] = 1\n",
    "\n",
    "features_dataset.drop('activiteit', axis=1, inplace=True)\n",
    "features_dataset.dropna(how='any', inplace=True)\n",
    "\n",
    "features_dataset.head()"
   ]
  },
  {
   "cell_type": "markdown",
   "metadata": {},
   "source": [
    "## Preparing feature dataset for learning\n",
    "### Splitting in x and y"
   ]
  },
  {
   "cell_type": "code",
   "execution_count": 61,
   "metadata": {},
   "outputs": [
    {
     "data": {
      "text/html": [
       "<div>\n",
       "<style scoped>\n",
       "    .dataframe tbody tr th:only-of-type {\n",
       "        vertical-align: middle;\n",
       "    }\n",
       "\n",
       "    .dataframe tbody tr th {\n",
       "        vertical-align: top;\n",
       "    }\n",
       "\n",
       "    .dataframe thead th {\n",
       "        text-align: right;\n",
       "    }\n",
       "</style>\n",
       "<table border=\"1\" class=\"dataframe\">\n",
       "  <thead>\n",
       "    <tr style=\"text-align: right;\">\n",
       "      <th></th>\n",
       "      <th>standard_deviation_x</th>\n",
       "      <th>mean_x</th>\n",
       "      <th>standard_deviation_y</th>\n",
       "      <th>mean_y</th>\n",
       "      <th>standard_deviation_z</th>\n",
       "      <th>mean_z</th>\n",
       "    </tr>\n",
       "  </thead>\n",
       "  <tbody>\n",
       "    <tr>\n",
       "      <th>2019-09-25 13:05:14.800</th>\n",
       "      <td>0.543847</td>\n",
       "      <td>-1.106805</td>\n",
       "      <td>0.363399</td>\n",
       "      <td>0.187268</td>\n",
       "      <td>0.499725</td>\n",
       "      <td>0.055133</td>\n",
       "    </tr>\n",
       "    <tr>\n",
       "      <th>2019-09-30 15:29:39.400</th>\n",
       "      <td>0.344877</td>\n",
       "      <td>-1.098615</td>\n",
       "      <td>0.286908</td>\n",
       "      <td>0.136440</td>\n",
       "      <td>0.526081</td>\n",
       "      <td>0.039683</td>\n",
       "    </tr>\n",
       "    <tr>\n",
       "      <th>2019-09-30 10:23:45.400</th>\n",
       "      <td>0.004456</td>\n",
       "      <td>-1.078774</td>\n",
       "      <td>0.015422</td>\n",
       "      <td>-0.113560</td>\n",
       "      <td>0.016291</td>\n",
       "      <td>0.023978</td>\n",
       "    </tr>\n",
       "    <tr>\n",
       "      <th>2019-10-10 13:56:57.400</th>\n",
       "      <td>0.001633</td>\n",
       "      <td>-1.079196</td>\n",
       "      <td>0.008734</td>\n",
       "      <td>0.107565</td>\n",
       "      <td>0.007999</td>\n",
       "      <td>-0.035123</td>\n",
       "    </tr>\n",
       "    <tr>\n",
       "      <th>2019-09-30 12:46:17.800</th>\n",
       "      <td>0.437105</td>\n",
       "      <td>-0.615586</td>\n",
       "      <td>0.186438</td>\n",
       "      <td>0.239024</td>\n",
       "      <td>0.109886</td>\n",
       "      <td>0.909237</td>\n",
       "    </tr>\n",
       "  </tbody>\n",
       "</table>\n",
       "</div>"
      ],
      "text/plain": [
       "                         standard_deviation_x    mean_x  standard_deviation_y  \\\n",
       "2019-09-25 13:05:14.800              0.543847 -1.106805              0.363399   \n",
       "2019-09-30 15:29:39.400              0.344877 -1.098615              0.286908   \n",
       "2019-09-30 10:23:45.400              0.004456 -1.078774              0.015422   \n",
       "2019-10-10 13:56:57.400              0.001633 -1.079196              0.008734   \n",
       "2019-09-30 12:46:17.800              0.437105 -0.615586              0.186438   \n",
       "\n",
       "                           mean_y  standard_deviation_z    mean_z  \n",
       "2019-09-25 13:05:14.800  0.187268              0.499725  0.055133  \n",
       "2019-09-30 15:29:39.400  0.136440              0.526081  0.039683  \n",
       "2019-09-30 10:23:45.400 -0.113560              0.016291  0.023978  \n",
       "2019-10-10 13:56:57.400  0.107565              0.007999 -0.035123  \n",
       "2019-09-30 12:46:17.800  0.239024              0.109886  0.909237  "
      ]
     },
     "execution_count": 61,
     "metadata": {},
     "output_type": "execute_result"
    }
   ],
   "source": [
    "x = features_dataset[features_columns[:-1]]\n",
    "y = features_dataset[activity_columns]\n",
    "train_x, valid_x, train_y, valid_y = train_test_split(x,y, test_size=0.2, random_state=23, stratify=y)\n",
    "\n",
    "train_x.head()"
   ]
  },
  {
   "cell_type": "code",
   "execution_count": 62,
   "metadata": {},
   "outputs": [
    {
     "data": {
      "text/html": [
       "<div>\n",
       "<style scoped>\n",
       "    .dataframe tbody tr th:only-of-type {\n",
       "        vertical-align: middle;\n",
       "    }\n",
       "\n",
       "    .dataframe tbody tr th {\n",
       "        vertical-align: top;\n",
       "    }\n",
       "\n",
       "    .dataframe thead th {\n",
       "        text-align: right;\n",
       "    }\n",
       "</style>\n",
       "<table border=\"1\" class=\"dataframe\">\n",
       "  <thead>\n",
       "    <tr style=\"text-align: right;\">\n",
       "      <th></th>\n",
       "      <th>cycling_light</th>\n",
       "      <th>cycling_hard</th>\n",
       "      <th>activity_walking</th>\n",
       "      <th>activity_running</th>\n",
       "      <th>activity_jumping</th>\n",
       "      <th>activity_standing</th>\n",
       "      <th>activity_traplopen</th>\n",
       "      <th>activity_sitten</th>\n",
       "    </tr>\n",
       "  </thead>\n",
       "  <tbody>\n",
       "    <tr>\n",
       "      <th>2019-09-25 13:05:14.800</th>\n",
       "      <td>0</td>\n",
       "      <td>0</td>\n",
       "      <td>1</td>\n",
       "      <td>0</td>\n",
       "      <td>0</td>\n",
       "      <td>0</td>\n",
       "      <td>0</td>\n",
       "      <td>0</td>\n",
       "    </tr>\n",
       "    <tr>\n",
       "      <th>2019-09-30 15:29:39.400</th>\n",
       "      <td>0</td>\n",
       "      <td>0</td>\n",
       "      <td>1</td>\n",
       "      <td>0</td>\n",
       "      <td>0</td>\n",
       "      <td>0</td>\n",
       "      <td>0</td>\n",
       "      <td>0</td>\n",
       "    </tr>\n",
       "    <tr>\n",
       "      <th>2019-09-30 10:23:45.400</th>\n",
       "      <td>0</td>\n",
       "      <td>0</td>\n",
       "      <td>0</td>\n",
       "      <td>0</td>\n",
       "      <td>0</td>\n",
       "      <td>1</td>\n",
       "      <td>0</td>\n",
       "      <td>0</td>\n",
       "    </tr>\n",
       "    <tr>\n",
       "      <th>2019-10-10 13:56:57.400</th>\n",
       "      <td>0</td>\n",
       "      <td>0</td>\n",
       "      <td>0</td>\n",
       "      <td>0</td>\n",
       "      <td>0</td>\n",
       "      <td>1</td>\n",
       "      <td>0</td>\n",
       "      <td>0</td>\n",
       "    </tr>\n",
       "    <tr>\n",
       "      <th>2019-09-30 12:46:17.800</th>\n",
       "      <td>1</td>\n",
       "      <td>0</td>\n",
       "      <td>0</td>\n",
       "      <td>0</td>\n",
       "      <td>0</td>\n",
       "      <td>0</td>\n",
       "      <td>0</td>\n",
       "      <td>0</td>\n",
       "    </tr>\n",
       "  </tbody>\n",
       "</table>\n",
       "</div>"
      ],
      "text/plain": [
       "                         cycling_light  cycling_hard  activity_walking  \\\n",
       "2019-09-25 13:05:14.800              0             0                 1   \n",
       "2019-09-30 15:29:39.400              0             0                 1   \n",
       "2019-09-30 10:23:45.400              0             0                 0   \n",
       "2019-10-10 13:56:57.400              0             0                 0   \n",
       "2019-09-30 12:46:17.800              1             0                 0   \n",
       "\n",
       "                         activity_running  activity_jumping  \\\n",
       "2019-09-25 13:05:14.800                 0                 0   \n",
       "2019-09-30 15:29:39.400                 0                 0   \n",
       "2019-09-30 10:23:45.400                 0                 0   \n",
       "2019-10-10 13:56:57.400                 0                 0   \n",
       "2019-09-30 12:46:17.800                 0                 0   \n",
       "\n",
       "                         activity_standing  activity_traplopen  \\\n",
       "2019-09-25 13:05:14.800                  0                   0   \n",
       "2019-09-30 15:29:39.400                  0                   0   \n",
       "2019-09-30 10:23:45.400                  1                   0   \n",
       "2019-10-10 13:56:57.400                  1                   0   \n",
       "2019-09-30 12:46:17.800                  0                   0   \n",
       "\n",
       "                         activity_sitten  \n",
       "2019-09-25 13:05:14.800                0  \n",
       "2019-09-30 15:29:39.400                0  \n",
       "2019-09-30 10:23:45.400                0  \n",
       "2019-10-10 13:56:57.400                0  \n",
       "2019-09-30 12:46:17.800                0  "
      ]
     },
     "execution_count": 62,
     "metadata": {},
     "output_type": "execute_result"
    }
   ],
   "source": [
    "train_y.head()"
   ]
  },
  {
   "cell_type": "markdown",
   "metadata": {},
   "source": [
    "# Random tree forest"
   ]
  },
  {
   "cell_type": "code",
   "execution_count": 78,
   "metadata": {},
   "outputs": [
    {
     "data": {
      "text/plain": [
       "RandomForestClassifier(n_estimators=287, random_state=0)"
      ]
     },
     "execution_count": 78,
     "metadata": {},
     "output_type": "execute_result"
    }
   ],
   "source": [
    "ftc = RandomForestClassifier(n_estimators=287, random_state=0)\n",
    "ftc.fit(train_x, train_y)"
   ]
  },
  {
   "cell_type": "markdown",
   "metadata": {},
   "source": [
    "## Testing and results"
   ]
  },
  {
   "cell_type": "code",
   "execution_count": 79,
   "metadata": {},
   "outputs": [],
   "source": [
    "prediction_y = ftc.predict(valid_x)"
   ]
  },
  {
   "cell_type": "markdown",
   "metadata": {},
   "source": [
    "### Result"
   ]
  },
  {
   "cell_type": "markdown",
   "metadata": {},
   "source": [
    "#### Accuracy"
   ]
  },
  {
   "cell_type": "code",
   "execution_count": 80,
   "metadata": {},
   "outputs": [
    {
     "data": {
      "text/plain": [
       "0.9280936454849499"
      ]
     },
     "execution_count": 80,
     "metadata": {},
     "output_type": "execute_result"
    }
   ],
   "source": [
    "accuracy_score(valid_y, prediction_y, normalize=True)"
   ]
  },
  {
   "cell_type": "markdown",
   "metadata": {},
   "source": [
    "#### Classification report "
   ]
  },
  {
   "cell_type": "code",
   "execution_count": 81,
   "metadata": {
    "scrolled": false
   },
   "outputs": [
    {
     "name": "stdout",
     "output_type": "stream",
     "text": [
      "                    precision    recall  f1-score   support\n",
      "\n",
      "     cycling_light       0.89      0.90      0.89       185\n",
      "      cycling_hard       0.90      0.89      0.89       186\n",
      "  activity_walking       0.92      0.96      0.94       189\n",
      "  activity_running       0.99      0.96      0.98       187\n",
      "  activity_jumping       0.96      0.62      0.75        37\n",
      " activity_standing       0.93      0.99      0.96       185\n",
      "activity_traplopen       0.93      0.68      0.79        41\n",
      "   activity_sitten       0.99      0.98      0.99       186\n",
      "\n",
      "         micro avg       0.94      0.93      0.93      1196\n",
      "         macro avg       0.94      0.87      0.90      1196\n",
      "      weighted avg       0.94      0.93      0.93      1196\n",
      "       samples avg       0.93      0.93      0.93      1196\n",
      "\n"
     ]
    }
   ],
   "source": [
    "print(classification_report(valid_y,prediction_y, target_names=activity_columns, zero_division=0))"
   ]
  },
  {
   "cell_type": "markdown",
   "metadata": {},
   "source": [
    "### Confusion matrix"
   ]
  },
  {
   "cell_type": "code",
   "execution_count": 82,
   "metadata": {
    "scrolled": true
   },
   "outputs": [
    {
     "data": {
      "text/plain": [
       "Text(69.0, 0.5, 'true label')"
      ]
     },
     "execution_count": 82,
     "metadata": {},
     "output_type": "execute_result"
    },
    {
     "data": {
      "image/png": "[encoded data removed]",
      "text/plain": [
       "<Figure size 720x504 with 2 Axes>"
      ]
     },
     "metadata": {
      "needs_background": "light"
     },
     "output_type": "display_data"
    }
   ],
   "source": [
    "import seaborn as sn\n",
    "\n",
    "#confusion_matrix(valid_y, prediction_y)\n",
    "cm = confusion_matrix(valid_y.values.argmax(axis=1), prediction_y.argmax(axis=1), normalize='true')\n",
    "\n",
    "df_cm = pd.DataFrame(cm, index=activities, columns=activities)\n",
    "df_cm.head()\n",
    "plt.figure(figsize = (10,7))\n",
    "sn.heatmap(df_cm, annot=True, cmap='Blues')\n",
    "\n",
    "plt.title(\"Validation dataset\")\n",
    "plt.xlabel(\"predicted label\")\n",
    "plt.ylabel(\"true label\")"
   ]
  },
  {
   "cell_type": "markdown",
   "metadata": {},
   "source": [
    "## Diagnostics\n",
    "### Cross validation analysis"
   ]
  },
  {
   "cell_type": "code",
   "execution_count": 84,
   "metadata": {},
   "outputs": [],
   "source": [
    "from sklearn.model_selection import cross_val_score, StratifiedKFold, KFold\n",
    "import seaborn as sn\n",
    "from sklearn.model_selection import cross_val_predict\n",
    "\n",
    "rfc = RandomForestClassifier(n_estimators=287, random_state=0)\n",
    "pred_y = cross_val_predict(rfc, x, y)"
   ]
  },
  {
   "cell_type": "code",
   "execution_count": 85,
   "metadata": {},
   "outputs": [
    {
     "name": "stdout",
     "output_type": "stream",
     "text": [
      "Accuracy: 0.73 (+/- 0.05)\n",
      "Recall: 0.73 (+/- 0.05)\n",
      "Precision: 0.79 (+/- 0.02)\n"
     ]
    }
   ],
   "source": [
    "accuracy_scores = cross_val_score(rfc, x, y, scoring='accuracy')\n",
    "recall_scores = cross_val_score(rfc, x, y , scoring='recall_micro')\n",
    "precision_scores = cross_val_score(rfc, x, y , scoring='precision_micro')\n",
    "\n",
    "print(\"Accuracy: %0.2f (+/- %0.2f)\" % (accuracy_scores.mean(), accuracy_scores.std() ))\n",
    "print(\"Recall: %0.2f (+/- %0.2f)\" % (recall_scores.mean(), recall_scores.std() ))\n",
    "print(\"Precision: %0.2f (+/- %0.2f)\" % (precision_scores.mean(), precision_scores.std() ))"
   ]
  },
  {
   "cell_type": "code",
   "execution_count": 90,
   "metadata": {},
   "outputs": [],
   "source": [
    "skf = KFold(n_splits=5, shuffle=True)\n",
    "\n",
    "accuracy_scores = np.array([])\n",
    "f1_scores = np.array([])"
   ]
  },
  {
   "cell_type": "code",
   "execution_count": 91,
   "metadata": {},
   "outputs": [],
   "source": [
    "for train_index, test_index in skf.split(x, y):\n",
    "    x_train, y_train = x.iloc[train_index], y.iloc[train_index]\n",
    "    x_test, y_test = x.iloc[test_index], y.iloc[test_index]\n",
    "    \n",
    "    rfc = RandomForestClassifier(n_estimators=287, random_state=0)\n",
    "    rfc.fit(x_train, y_train)\n",
    "    \n",
    "    predictions = rfc.predict(x_test)\n",
    "    \n",
    "    accuracy_scores  = np.append(accuracy_scores, accuracy_score(y_test, predictions, normalize=True))\n",
    "    f1_scores    = np.append(f1_scores, f1_score(y_test, predictions, average='micro'))"
   ]
  },
  {
   "cell_type": "code",
   "execution_count": 92,
   "metadata": {},
   "outputs": [
    {
     "data": {
      "text/plain": [
       "0.9215719063545149"
      ]
     },
     "execution_count": 92,
     "metadata": {},
     "output_type": "execute_result"
    }
   ],
   "source": [
    "accuracy_scores.mean()"
   ]
  },
  {
   "cell_type": "code",
   "execution_count": 93,
   "metadata": {},
   "outputs": [
    {
     "data": {
      "text/plain": [
       "0.9288706807558256"
      ]
     },
     "execution_count": 93,
     "metadata": {},
     "output_type": "execute_result"
    }
   ],
   "source": [
    "f1_scores.mean()"
   ]
  },
  {
   "cell_type": "markdown",
   "metadata": {},
   "source": [
    "## Hyper parameter tuning \n",
    "### number of trees"
   ]
  },
  {
   "cell_type": "code",
   "execution_count": 74,
   "metadata": {},
   "outputs": [],
   "source": [
    "#### Quick analysis\n",
    "accuracy_scores = []\n",
    "f1_scores = []\n",
    "#precision_scores = []\n",
    "\n",
    "n_estimator_numbers = range(1,300)\n",
    "\n",
    "for i in n_estimator_numbers:\n",
    "    rfc_t = RandomForestClassifier(n_estimators=i, random_state=0)\n",
    "    rfc_t.fit(train_x, train_y)\n",
    "    \n",
    "    predictions = rfc_t.predict(valid_x)\n",
    "    \n",
    "    accuracy_scores.append(accuracy_score(valid_y, predictions, normalize=True))\n",
    "    f1_scores.append(f1_score(valid_y, predictions, average='micro' ))\n",
    "    #precision_scores.append(precision_score(valid_y, predictions, average='micro'))"
   ]
  },
  {
   "cell_type": "code",
   "execution_count": 75,
   "metadata": {},
   "outputs": [
    {
     "data": {
      "text/plain": [
       "<matplotlib.legend.Legend at 0x7f12fd698438>"
      ]
     },
     "execution_count": 75,
     "metadata": {},
     "output_type": "execute_result"
    },
    {
     "data": {
      "image/png": "[encoded data removed]",
      "text/plain": [
       "<Figure size 432x288 with 1 Axes>"
      ]
     },
     "metadata": {
      "needs_background": "light"
     },
     "output_type": "display_data"
    }
   ],
   "source": [
    "plt.plot(n_estimator_numbers, accuracy_scores, label='accuracy')\n",
    "plt.plot(n_estimator_numbers, f1_scores, label='f1')\n",
    "\n",
    "plt.xlabel('Trees')\n",
    "plt.ylabel('score')\n",
    "#plt.plot(n_estimator_numbers, precision_scores, label='precision')\n",
    "\n",
    "plt.legend()"
   ]
  },
  {
   "cell_type": "code",
   "execution_count": 76,
   "metadata": {},
   "outputs": [],
   "source": [
    "np_accuracy_scores = np.array(accuracy_scores)\n",
    "np_f1_scores = np.array(f1_scores)"
   ]
  },
  {
   "cell_type": "code",
   "execution_count": 77,
   "metadata": {},
   "outputs": [
    {
     "name": "stdout",
     "output_type": "stream",
     "text": [
      "accuracy:  287\n",
      "f1:  287\n"
     ]
    }
   ],
   "source": [
    "best_accuracy_index = np.argmax(np_accuracy_scores)\n",
    "best_f1_index = np.argmax(np_f1_scores)\n",
    "\n",
    "print('accuracy: ', n_estimator_numbers[best_accuracy_index])\n",
    "print('f1: ', n_estimator_numbers[best_f1_index])"
   ]
  },
  {
   "cell_type": "code",
   "execution_count": null,
   "metadata": {},
   "outputs": [],
   "source": []
  }
 ],
 "metadata": {
  "kernelspec": {
   "display_name": "Python 3",
   "language": "python",
   "name": "python3"
  },
  "language_info": {
   "codemirror_mode": {
    "name": "ipython",
    "version": 3
   },
   "file_extension": ".py",
   "mimetype": "text/x-python",
   "name": "python",
   "nbconvert_exporter": "python",
   "pygments_lexer": "ipython3",
   "version": "3.6.10"
  }
 },
 "nbformat": 4,
 "nbformat_minor": 4
}
