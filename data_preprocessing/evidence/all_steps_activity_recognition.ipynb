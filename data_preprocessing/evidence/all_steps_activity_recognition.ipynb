{
 "cells": [
  {
   "cell_type": "code",
   "execution_count": 412,
   "metadata": {},
   "outputs": [],
   "source": [
    "from helpers import math_helper\n",
    "from sensors.activpal import *\n",
    "from utils import read_functions\n",
    "from scipy import signal\n",
    "from sklearn.model_selection import train_test_split\n",
    "from sklearn import tree\n",
    "from sklearn.metrics import accuracy_score, precision_score, recall_score, confusion_matrix, classification_report\n",
    "from sklearn.ensemble import RandomForestClassifier\n",
    "\n",
    "import pandas as pd\n",
    "import statistics\n",
    "import os\n",
    "\n",
    "    #NEW RFE\n",
    "from numpy import mean\n",
    "from numpy import std\n",
    "from sklearn.datasets import make_classification\n",
    "from sklearn.model_selection import cross_val_score\n",
    "from sklearn.model_selection import RepeatedStratifiedKFold\n",
    "from sklearn.feature_selection import RFE\n",
    "from sklearn.tree import DecisionTreeClassifier\n",
    "from sklearn.pipeline import Pipeline\n",
    "# END\n"
   ]
  },
  {
   "cell_type": "markdown",
   "metadata": {},
   "source": [
    "# Feature Extraction"
   ]
  },
  {
   "cell_type": "code",
   "execution_count": 413,
   "metadata": {},
   "outputs": [],
   "source": [
    "activpal = Activpal()\n",
    "\n",
    "#features_columns = ['standard_deviation_x', 'mean_x', 'standard_deviation_y', 'mean_y','standard_deviation_z', 'mean_z', 'activiteit']\n",
    "features_columns = ['standard_deviation_x', 'mean_x', 'standard_deviation_y', 'mean_y','standard_deviation_z', 'mean_z', 'peak_distance_x', 'peak_distance_y','peak_distance_z', 'activiteit']\n",
    "\n",
    "activities = ['lopen', 'rennen', 'springen', 'staan', 'traplopen', 'zitten']\n",
    "segment_size = 12.8"
   ]
  },
  {
   "cell_type": "code",
   "execution_count": 414,
   "metadata": {},
   "outputs": [],
   "source": [
    "def calculate_peak_distance(activpal_segment, key):\n",
    "    accelerations = activpal_segment[key]\n",
    "\n",
    "    # todo: Think about what kind peaks we are looking for and what we want to with it\n",
    "    peak_index, _ = signal.find_peaks(accelerations)\n",
    "\n",
    "    if len(peak_index) < 2:\n",
    "        return 0\n",
    "\n",
    "    peak_values = [accelerations[i] for i in peak_index]\n",
    "\n",
    "    peak_values.sort(reverse=True)\n",
    "\n",
    "    # There is a change there are is peak that shows up at multiple index\n",
    "    # For this reason i am taking the index with highest value.\n",
    "    highest_peak_index = activpal_segment[activpal_segment[key] == peak_values[0]].index.max()\n",
    "    second_highest_peak_index = activpal_segment[activpal_segment[key] == peak_values[1]].index.max()\n",
    "\n",
    "    diff_time = max(highest_peak_index, second_highest_peak_index) - min(highest_peak_index, second_highest_peak_index)\n",
    "\n",
    "    # It's better to use microseconds diveded by 1000 to get milliseconds. This way you won't lose information\n",
    "    # return diff_time.seconds * 1000\n",
    "    return diff_time.microseconds / 1000\n"
   ]
  },
  {
   "cell_type": "code",
   "execution_count": 415,
   "metadata": {},
   "outputs": [],
   "source": [
    "def extract_features_from_correspondent(correspondent):\n",
    "    features_df = pd.DataFrame(columns=features_columns, index=pd.to_datetime([]))\n",
    "\n",
    "    # Getting dataset for a correspodent\n",
    "    activities_df = read_functions.read_activities(correspondent)\n",
    "\n",
    "    for activity_name in activities:\n",
    "        activity = activities_df.loc[activity_name]\n",
    "        if not activity.empty:\n",
    "            start_time = activity.start\n",
    "            stop_time = activity.stop\n",
    "            activpal_df = activpal.read_data(correspondent, start_time, stop_time)\n",
    "\n",
    "            # denormalizing dataset\n",
    "            activpal_df['x'] = math_helper.convert_value_to_g(activpal_df['pal_accX'])\n",
    "            activpal_df['y'] = math_helper.convert_value_to_g(activpal_df['pal_accY'])\n",
    "            activpal_df['z'] = math_helper.convert_value_to_g(activpal_df['pal_accZ'])\n",
    "\n",
    "            date_range = pd.date_range(start_time, stop_time, freq=str(segment_size) + 'S')\n",
    "            for time in date_range:\n",
    "                segment_time = time + pd.DateOffset(seconds=segment_size)\n",
    "                activpal_segment = activpal_df[(activpal_df.index >= time) & (activpal_df.index <= segment_time)]\n",
    "\n",
    "                # features\n",
    "                peak_distance_x = calculate_peak_distance(activpal_segment, 'x')\n",
    "                peak_distance_y = calculate_peak_distance(activpal_segment, 'y')\n",
    "                peak_distance_z = calculate_peak_distance(activpal_segment, 'z')\n",
    "\n",
    "                # stdev_x = lambda statistics.stdev(activpal_segment['x']) if len(activpal_segment['x']) >= 2 else 0\n",
    "                stdev_x =  statistics.stdev(activpal_segment['x']) if len(activpal_segment['x']) >= 2 else 0\n",
    "                mean_x = activpal_segment['x'].mean()\n",
    "\n",
    "                stdev_y =  statistics.stdev(activpal_segment['y']) if len(activpal_segment['y']) >= 2 else 0\n",
    "                mean_y = activpal_segment['y'].mean()\n",
    "\n",
    "                stdev_z =  statistics.stdev(activpal_segment['z']) if len(activpal_segment['z']) >= 2 else 0\n",
    "                mean_z = activpal_segment['z'].mean()  \n",
    "\n",
    "\n",
    "              #  features_df.loc[segment_time] = [stdev_x, mean_x, stdev_y, mean_y, stdev_z, mean_z, activity_name]\n",
    "                features_df.loc[segment_time] = [stdev_x, mean_x, stdev_y, mean_y, stdev_z, mean_z, peak_distance_x, peak_distance_y, peak_distance_z,  activity_name]\n",
    "\n",
    "    return features_df"
   ]
  },
  {
   "cell_type": "code",
   "execution_count": 416,
   "metadata": {},
   "outputs": [],
   "source": [
    "def extract_features_from_all_correspondents():\n",
    "    all_features_df = pd.DataFrame(index=pd.to_datetime([]))\n",
    "\n",
    "    for directory in os.walk('../../data'):\n",
    "        if directory[0] == '../../data':\n",
    "            for respDirect in directory[1]:\n",
    "                if respDirect not in ['output', 'throughput', 'Test data','.ipynb_checkpoints', 'BMR035', 'BMR100', 'BMR051', 'BMR027']:\n",
    "                    print(\"Extracting \" + respDirect)\n",
    "                    features_df = extract_features_from_correspondent(respDirect)\n",
    "                    all_features_df = pd.concat([all_features_df, features_df])\n",
    "\n",
    "    print(\"Done extracting features\")\n",
    "\n",
    "    return all_features_df"
   ]
  },
  {
   "cell_type": "code",
   "execution_count": 417,
   "metadata": {},
   "outputs": [
    {
     "name": "stdout",
     "output_type": "stream",
     "text": [
      "Extracting BMR099\n",
      "Extracting BMR025\n",
      "Extracting BMR060\n",
      "Extracting BMR012\n",
      "Extracting BMR030\n",
      "Extracting BMR044\n",
      "Extracting BMR043\n",
      "Extracting BMR004\n",
      "Extracting BMR011\n",
      "Extracting BMR098\n",
      "Extracting BMR034\n",
      "Extracting BMR014\n",
      "Extracting BMR036\n",
      "Extracting BMR052\n",
      "Extracting BMR002\n",
      "Extracting BMR031\n",
      "Extracting BMR097\n",
      "Extracting BMR008\n",
      "Extracting BMR015\n",
      "Extracting BMR033\n",
      "Extracting BMR064\n",
      "Extracting BMR055\n",
      "Extracting BMR041\n",
      "Extracting BMR053\n",
      "Extracting BMR042\n",
      "Extracting BMR018\n",
      "Extracting BMR058\n",
      "Extracting BMR040\n",
      "Extracting BMR032\n",
      "Done extracting features\n"
     ]
    }
   ],
   "source": [
    "features_dataset = extract_features_from_all_correspondents()"
   ]
  },
  {
   "cell_type": "markdown",
   "metadata": {},
   "source": [
    "# Balancing dataset"
   ]
  },
  {
   "cell_type": "code",
   "execution_count": 418,
   "metadata": {},
   "outputs": [],
   "source": [
    "def balance_dataset_by_activity(dataset):\n",
    "    highest_frequency  = dataset.groupby('activiteit').count()['standard_deviation_x'].max()\n",
    "    unbalanced_dataset = dataset.copy()\n",
    "    \n",
    "    for activity_name in unbalanced_dataset.activiteit.unique():\n",
    "        activity_data = unbalanced_dataset[unbalanced_dataset['activiteit'] == activity_name]\n",
    "        \n",
    "        multiplier =  int(highest_frequency / len(activity_data)) - 1\n",
    "        unbalanced_dataset = unbalanced_dataset.append([activity_data] * multiplier, ignore_index=True)    \n",
    "        \n",
    "        activity_amount = len(unbalanced_dataset[ unbalanced_dataset['activiteit'] == activity_name])\n",
    "        missing_amount = highest_frequency - activity_amount\n",
    "        unbalanced_dataset = unbalanced_dataset.append(activity_data[:missing_amount], ignore_index=True)    \n",
    "\n",
    "    return unbalanced_dataset\n",
    "\n",
    "#features_dataset = balance_dataset_by_activity(features_dataset)"
   ]
  },
  {
   "cell_type": "code",
   "execution_count": 419,
   "metadata": {},
   "outputs": [
    {
     "data": {
      "text/plain": [
       "<matplotlib.axes._subplots.AxesSubplot at 0x7fec2cd8aac8>"
      ]
     },
     "execution_count": 419,
     "metadata": {},
     "output_type": "execute_result"
    },
    {
     "data": {
      "image/png": "[encoded data removed]",
      "text/plain": [
       "<Figure size 432x288 with 1 Axes>"
      ]
     },
     "metadata": {
      "needs_background": "light"
     },
     "output_type": "display_data"
    }
   ],
   "source": [
    "features_dataset['activiteit'].value_counts().plot.bar()"
   ]
  },
  {
   "cell_type": "markdown",
   "metadata": {},
   "source": [
    "# model preperation"
   ]
  },
  {
   "cell_type": "code",
   "execution_count": 420,
   "metadata": {},
   "outputs": [],
   "source": [
    "activities = ['lopen', 'rennen', 'springen', 'staan', 'traplopen', 'zitten']\n",
    "\n",
    "features_dataset[['activity_walking', 'activity_running', 'activity_jumping', 'activity_standing', 'activity_traplopen',\n",
    "                  'activity_sitten']] = 0"
   ]
  },
  {
   "cell_type": "code",
   "execution_count": 421,
   "metadata": {},
   "outputs": [],
   "source": [
    "features_dataset.loc[(features_dataset['activiteit'] == 'lopen'), 'activity_walking'] = 1\n",
    "features_dataset.loc[(features_dataset['activiteit'] == 'rennen'), 'activity_running'] = 1\n",
    "features_dataset.loc[(features_dataset['activiteit'] == 'springen'), 'activity_jumping'] = 1\n",
    "features_dataset.loc[(features_dataset['activiteit'] == 'staan'), 'activity_standing'] = 1\n",
    "features_dataset.loc[(features_dataset['activiteit'] == 'traplopen'), 'activity_traplopen'] = 1\n",
    "features_dataset.loc[(features_dataset['activiteit'] == 'zitten'), 'activity_sitten'] = 1\n",
    "features_dataset.drop('activiteit', axis=1, inplace=True)"
   ]
  },
  {
   "cell_type": "code",
   "execution_count": 422,
   "metadata": {},
   "outputs": [],
   "source": [
    "for column in features_columns[:-1]:\n",
    "    features_dataset[column].fillna(0, inplace=True)"
   ]
  },
  {
   "cell_type": "code",
   "execution_count": 423,
   "metadata": {},
   "outputs": [
    {
     "data": {
      "text/html": [
       "<div>\n",
       "<style scoped>\n",
       "    .dataframe tbody tr th:only-of-type {\n",
       "        vertical-align: middle;\n",
       "    }\n",
       "\n",
       "    .dataframe tbody tr th {\n",
       "        vertical-align: top;\n",
       "    }\n",
       "\n",
       "    .dataframe thead th {\n",
       "        text-align: right;\n",
       "    }\n",
       "</style>\n",
       "<table border=\"1\" class=\"dataframe\">\n",
       "  <thead>\n",
       "    <tr style=\"text-align: right;\">\n",
       "      <th></th>\n",
       "      <th>standard_deviation_x</th>\n",
       "      <th>mean_x</th>\n",
       "      <th>standard_deviation_y</th>\n",
       "      <th>mean_y</th>\n",
       "      <th>standard_deviation_z</th>\n",
       "      <th>mean_z</th>\n",
       "      <th>peak_distance_x</th>\n",
       "      <th>peak_distance_y</th>\n",
       "      <th>peak_distance_z</th>\n",
       "      <th>activity_walking</th>\n",
       "      <th>activity_running</th>\n",
       "      <th>activity_jumping</th>\n",
       "      <th>activity_standing</th>\n",
       "      <th>activity_traplopen</th>\n",
       "      <th>activity_sitten</th>\n",
       "    </tr>\n",
       "  </thead>\n",
       "  <tbody>\n",
       "    <tr>\n",
       "      <th>2019-09-12 10:59:03.800</th>\n",
       "      <td>0.400827</td>\n",
       "      <td>-1.048051</td>\n",
       "      <td>0.313266</td>\n",
       "      <td>0.028658</td>\n",
       "      <td>0.493007</td>\n",
       "      <td>0.184609</td>\n",
       "      <td>399.993</td>\n",
       "      <td>0.003</td>\n",
       "      <td>0.0</td>\n",
       "      <td>1</td>\n",
       "      <td>0</td>\n",
       "      <td>0</td>\n",
       "      <td>0</td>\n",
       "      <td>0</td>\n",
       "      <td>0</td>\n",
       "    </tr>\n",
       "    <tr>\n",
       "      <th>2019-09-12 10:59:16.600</th>\n",
       "      <td>0.478785</td>\n",
       "      <td>-1.029443</td>\n",
       "      <td>0.330056</td>\n",
       "      <td>0.038406</td>\n",
       "      <td>0.565512</td>\n",
       "      <td>0.154373</td>\n",
       "      <td>999.996</td>\n",
       "      <td>599.995</td>\n",
       "      <td>0.0</td>\n",
       "      <td>1</td>\n",
       "      <td>0</td>\n",
       "      <td>0</td>\n",
       "      <td>0</td>\n",
       "      <td>0</td>\n",
       "      <td>0</td>\n",
       "    </tr>\n",
       "    <tr>\n",
       "      <th>2019-09-12 10:59:29.400</th>\n",
       "      <td>0.508147</td>\n",
       "      <td>-1.046631</td>\n",
       "      <td>0.352266</td>\n",
       "      <td>0.036316</td>\n",
       "      <td>0.536173</td>\n",
       "      <td>0.160027</td>\n",
       "      <td>349.993</td>\n",
       "      <td>100.001</td>\n",
       "      <td>0.0</td>\n",
       "      <td>1</td>\n",
       "      <td>0</td>\n",
       "      <td>0</td>\n",
       "      <td>0</td>\n",
       "      <td>0</td>\n",
       "      <td>0</td>\n",
       "    </tr>\n",
       "    <tr>\n",
       "      <th>2019-09-12 10:59:42.200</th>\n",
       "      <td>0.528202</td>\n",
       "      <td>-1.011204</td>\n",
       "      <td>0.396568</td>\n",
       "      <td>0.022533</td>\n",
       "      <td>0.599671</td>\n",
       "      <td>0.150638</td>\n",
       "      <td>450.000</td>\n",
       "      <td>249.996</td>\n",
       "      <td>0.0</td>\n",
       "      <td>1</td>\n",
       "      <td>0</td>\n",
       "      <td>0</td>\n",
       "      <td>0</td>\n",
       "      <td>0</td>\n",
       "      <td>0</td>\n",
       "    </tr>\n",
       "    <tr>\n",
       "      <th>2019-09-12 10:59:55.000</th>\n",
       "      <td>0.526253</td>\n",
       "      <td>-1.026743</td>\n",
       "      <td>0.383155</td>\n",
       "      <td>0.023408</td>\n",
       "      <td>0.561279</td>\n",
       "      <td>0.148107</td>\n",
       "      <td>199.997</td>\n",
       "      <td>450.003</td>\n",
       "      <td>0.0</td>\n",
       "      <td>1</td>\n",
       "      <td>0</td>\n",
       "      <td>0</td>\n",
       "      <td>0</td>\n",
       "      <td>0</td>\n",
       "      <td>0</td>\n",
       "    </tr>\n",
       "  </tbody>\n",
       "</table>\n",
       "</div>"
      ],
      "text/plain": [
       "                         standard_deviation_x    mean_x  standard_deviation_y  \\\n",
       "2019-09-12 10:59:03.800              0.400827 -1.048051              0.313266   \n",
       "2019-09-12 10:59:16.600              0.478785 -1.029443              0.330056   \n",
       "2019-09-12 10:59:29.400              0.508147 -1.046631              0.352266   \n",
       "2019-09-12 10:59:42.200              0.528202 -1.011204              0.396568   \n",
       "2019-09-12 10:59:55.000              0.526253 -1.026743              0.383155   \n",
       "\n",
       "                           mean_y  standard_deviation_z    mean_z  \\\n",
       "2019-09-12 10:59:03.800  0.028658              0.493007  0.184609   \n",
       "2019-09-12 10:59:16.600  0.038406              0.565512  0.154373   \n",
       "2019-09-12 10:59:29.400  0.036316              0.536173  0.160027   \n",
       "2019-09-12 10:59:42.200  0.022533              0.599671  0.150638   \n",
       "2019-09-12 10:59:55.000  0.023408              0.561279  0.148107   \n",
       "\n",
       "                         peak_distance_x  peak_distance_y  peak_distance_z  \\\n",
       "2019-09-12 10:59:03.800          399.993            0.003              0.0   \n",
       "2019-09-12 10:59:16.600          999.996          599.995              0.0   \n",
       "2019-09-12 10:59:29.400          349.993          100.001              0.0   \n",
       "2019-09-12 10:59:42.200          450.000          249.996              0.0   \n",
       "2019-09-12 10:59:55.000          199.997          450.003              0.0   \n",
       "\n",
       "                         activity_walking  activity_running  activity_jumping  \\\n",
       "2019-09-12 10:59:03.800                 1                 0                 0   \n",
       "2019-09-12 10:59:16.600                 1                 0                 0   \n",
       "2019-09-12 10:59:29.400                 1                 0                 0   \n",
       "2019-09-12 10:59:42.200                 1                 0                 0   \n",
       "2019-09-12 10:59:55.000                 1                 0                 0   \n",
       "\n",
       "                         activity_standing  activity_traplopen  \\\n",
       "2019-09-12 10:59:03.800                  0                   0   \n",
       "2019-09-12 10:59:16.600                  0                   0   \n",
       "2019-09-12 10:59:29.400                  0                   0   \n",
       "2019-09-12 10:59:42.200                  0                   0   \n",
       "2019-09-12 10:59:55.000                  0                   0   \n",
       "\n",
       "                         activity_sitten  \n",
       "2019-09-12 10:59:03.800                0  \n",
       "2019-09-12 10:59:16.600                0  \n",
       "2019-09-12 10:59:29.400                0  \n",
       "2019-09-12 10:59:42.200                0  \n",
       "2019-09-12 10:59:55.000                0  "
      ]
     },
     "execution_count": 423,
     "metadata": {},
     "output_type": "execute_result"
    }
   ],
   "source": [
    "features_dataset.head()"
   ]
  },
  {
   "cell_type": "markdown",
   "metadata": {},
   "source": [
    "## Preparing feature dataset for learning\n",
    "### Splitting in x and y"
   ]
  },
  {
   "cell_type": "code",
   "execution_count": 424,
   "metadata": {},
   "outputs": [],
   "source": [
    "x = features_dataset[features_columns[:-1]]\n",
    "y = features_dataset[['activity_walking', 'activity_running', 'activity_jumping', 'activity_standing', 'activity_traplopen', 'activity_sitten']]\n",
    "train_x, valid_x, train_y, valid_y = train_test_split(x,y, test_size=0.2, random_state=23, stratify=y)"
   ]
  },
  {
   "cell_type": "code",
   "execution_count": 425,
   "metadata": {},
   "outputs": [],
   "source": [
    "# ## WORK IN PROGRESS\n",
    "# x, y = make_classification(n_samples=1600, n_features=9, n_informative=9, n_redundant=0, random_state=1)\n",
    "# rfe = RFE(estimator=DecisionTreeClassifier(), n_features_to_select=5)\n",
    "# model = DecisionTreeClassifier()\n",
    "# pipeline = Pipeline(steps=[('s',rfe),('m',model)])\n",
    " \n",
    "\n",
    "# cv = RepeatedStratifiedKFold(n_splits=10, n_repeats=3, random_state=1)\n",
    "# n_scores = cross_val_score(pipeline, x, y, scoring='accuracy', cv=cv, n_jobs=-1, error_score='raise')\n",
    "# # report performance\n",
    "# print('Accuracy: %.3f (%.3f)' % (mean(n_scores), std(n_scores)))"
   ]
  },
  {
   "cell_type": "code",
   "execution_count": 426,
   "metadata": {
    "scrolled": true
   },
   "outputs": [
    {
     "data": {
      "text/html": [
       "<div>\n",
       "<style scoped>\n",
       "    .dataframe tbody tr th:only-of-type {\n",
       "        vertical-align: middle;\n",
       "    }\n",
       "\n",
       "    .dataframe tbody tr th {\n",
       "        vertical-align: top;\n",
       "    }\n",
       "\n",
       "    .dataframe thead th {\n",
       "        text-align: right;\n",
       "    }\n",
       "</style>\n",
       "<table border=\"1\" class=\"dataframe\">\n",
       "  <thead>\n",
       "    <tr style=\"text-align: right;\">\n",
       "      <th></th>\n",
       "      <th>standard_deviation_x</th>\n",
       "      <th>mean_x</th>\n",
       "      <th>standard_deviation_y</th>\n",
       "      <th>mean_y</th>\n",
       "      <th>standard_deviation_z</th>\n",
       "      <th>mean_z</th>\n",
       "      <th>peak_distance_x</th>\n",
       "      <th>peak_distance_y</th>\n",
       "      <th>peak_distance_z</th>\n",
       "    </tr>\n",
       "  </thead>\n",
       "  <tbody>\n",
       "    <tr>\n",
       "      <th>2019-10-07 12:29:52.800</th>\n",
       "      <td>0.008338</td>\n",
       "      <td>-0.049975</td>\n",
       "      <td>0.012507</td>\n",
       "      <td>-0.098772</td>\n",
       "      <td>0.004169</td>\n",
       "      <td>1.221044</td>\n",
       "      <td>0.000</td>\n",
       "      <td>0.000</td>\n",
       "      <td>0.0</td>\n",
       "    </tr>\n",
       "    <tr>\n",
       "      <th>2019-09-25 12:49:43.800</th>\n",
       "      <td>0.016626</td>\n",
       "      <td>-1.079925</td>\n",
       "      <td>0.041556</td>\n",
       "      <td>-0.129225</td>\n",
       "      <td>0.044862</td>\n",
       "      <td>0.301774</td>\n",
       "      <td>0.000</td>\n",
       "      <td>200.006</td>\n",
       "      <td>0.0</td>\n",
       "    </tr>\n",
       "    <tr>\n",
       "      <th>2019-10-10 15:40:56.200</th>\n",
       "      <td>0.482976</td>\n",
       "      <td>-1.091663</td>\n",
       "      <td>0.280396</td>\n",
       "      <td>0.116831</td>\n",
       "      <td>0.621740</td>\n",
       "      <td>0.093236</td>\n",
       "      <td>250.001</td>\n",
       "      <td>250.001</td>\n",
       "      <td>0.0</td>\n",
       "    </tr>\n",
       "    <tr>\n",
       "      <th>2019-09-30 15:53:30.400</th>\n",
       "      <td>0.006767</td>\n",
       "      <td>-0.273609</td>\n",
       "      <td>0.006767</td>\n",
       "      <td>-0.154963</td>\n",
       "      <td>0.000000</td>\n",
       "      <td>1.158730</td>\n",
       "      <td>0.000</td>\n",
       "      <td>0.000</td>\n",
       "      <td>0.0</td>\n",
       "    </tr>\n",
       "    <tr>\n",
       "      <th>2019-09-30 13:06:18.400</th>\n",
       "      <td>0.859630</td>\n",
       "      <td>-1.006100</td>\n",
       "      <td>0.549857</td>\n",
       "      <td>0.224525</td>\n",
       "      <td>0.652285</td>\n",
       "      <td>0.249362</td>\n",
       "      <td>300.001</td>\n",
       "      <td>849.998</td>\n",
       "      <td>0.0</td>\n",
       "    </tr>\n",
       "  </tbody>\n",
       "</table>\n",
       "</div>"
      ],
      "text/plain": [
       "                         standard_deviation_x    mean_x  standard_deviation_y  \\\n",
       "2019-10-07 12:29:52.800              0.008338 -0.049975              0.012507   \n",
       "2019-09-25 12:49:43.800              0.016626 -1.079925              0.041556   \n",
       "2019-10-10 15:40:56.200              0.482976 -1.091663              0.280396   \n",
       "2019-09-30 15:53:30.400              0.006767 -0.273609              0.006767   \n",
       "2019-09-30 13:06:18.400              0.859630 -1.006100              0.549857   \n",
       "\n",
       "                           mean_y  standard_deviation_z    mean_z  \\\n",
       "2019-10-07 12:29:52.800 -0.098772              0.004169  1.221044   \n",
       "2019-09-25 12:49:43.800 -0.129225              0.044862  0.301774   \n",
       "2019-10-10 15:40:56.200  0.116831              0.621740  0.093236   \n",
       "2019-09-30 15:53:30.400 -0.154963              0.000000  1.158730   \n",
       "2019-09-30 13:06:18.400  0.224525              0.652285  0.249362   \n",
       "\n",
       "                         peak_distance_x  peak_distance_y  peak_distance_z  \n",
       "2019-10-07 12:29:52.800            0.000            0.000              0.0  \n",
       "2019-09-25 12:49:43.800            0.000          200.006              0.0  \n",
       "2019-10-10 15:40:56.200          250.001          250.001              0.0  \n",
       "2019-09-30 15:53:30.400            0.000            0.000              0.0  \n",
       "2019-09-30 13:06:18.400          300.001          849.998              0.0  "
      ]
     },
     "execution_count": 426,
     "metadata": {},
     "output_type": "execute_result"
    }
   ],
   "source": [
    "train_x.head()"
   ]
  },
  {
   "cell_type": "markdown",
   "metadata": {},
   "source": [
    "# Decision Tree model"
   ]
  },
  {
   "cell_type": "code",
   "execution_count": 427,
   "metadata": {},
   "outputs": [],
   "source": [
    "dtc = tree.DecisionTreeClassifier()\n",
    "dtc = dtc.fit(train_x, train_y)"
   ]
  },
  {
   "cell_type": "markdown",
   "metadata": {},
   "source": [
    "## results\n",
    "\n",
    "Random seed: 23\n",
    "\n",
    "\n",
    "|Features| |\n",
    "|-----| ----|\n",
    "| standard_deviation_x| mean_x|\n",
    "| standard_deviation_y| mean_y|\n",
    "| standard_deviation_z| mean_z|\n",
    "| peak_distance_x| peak_distance_y|\n",
    "| peak_distance_z| activiteit|\n",
    "\n",
    "| Time range | Accuracy | Precision |  Recall |\n",
    "| ------ | ------ | ------ | ------ |\n",
    "| 0.4S | 80% | 86% | 80%\n",
    "| 0.8S | 82% | 90% | 82%\n",
    "| 1.0S | 83% | 90% | 83%\n",
    "| 1.6S | 83% | 90% | 83%\n",
    "| 2.0S | 83% | 90% | 83%\n",
    "| 3.2S | 83% | 89.5% | 83%\n",
    "| 4.0S | 83% | 90.5% | 82%\n",
    "| 6.4S | 84% | 90% | 85% \n",
    "| 8.0S | 85% | 91% | 85% \n",
    "| 12.8S | 87% | 92% | 87%\n",
    "\n",
    "12.8S gives the best result"
   ]
  },
  {
   "cell_type": "code",
   "execution_count": 428,
   "metadata": {},
   "outputs": [],
   "source": [
    "prediction_y = dtc.predict(valid_x)"
   ]
  },
  {
   "cell_type": "markdown",
   "metadata": {},
   "source": [
    "#### Accuracy"
   ]
  },
  {
   "cell_type": "code",
   "execution_count": 429,
   "metadata": {},
   "outputs": [
    {
     "data": {
      "text/plain": [
       "0.9239482200647249"
      ]
     },
     "execution_count": 429,
     "metadata": {},
     "output_type": "execute_result"
    }
   ],
   "source": [
    "accuracy_score(valid_y, prediction_y)"
   ]
  },
  {
   "cell_type": "markdown",
   "metadata": {},
   "source": [
    "#### Precision"
   ]
  },
  {
   "cell_type": "code",
   "execution_count": 430,
   "metadata": {},
   "outputs": [
    {
     "data": {
      "text/plain": [
       "0.9239482200647249"
      ]
     },
     "execution_count": 430,
     "metadata": {},
     "output_type": "execute_result"
    }
   ],
   "source": [
    "precision_score(valid_y, prediction_y, average='micro')"
   ]
  },
  {
   "cell_type": "markdown",
   "metadata": {},
   "source": [
    "#### Recall"
   ]
  },
  {
   "cell_type": "code",
   "execution_count": 431,
   "metadata": {},
   "outputs": [
    {
     "data": {
      "text/plain": [
       "0.9239482200647249"
      ]
     },
     "execution_count": 431,
     "metadata": {},
     "output_type": "execute_result"
    }
   ],
   "source": [
    "recall_score(valid_y, prediction_y , average='micro')"
   ]
  },
  {
   "cell_type": "markdown",
   "metadata": {},
   "source": [
    "# Random tree forest"
   ]
  },
  {
   "cell_type": "code",
   "execution_count": 432,
   "metadata": {},
   "outputs": [],
   "source": [
    "#from sklearn.preprocessing import StandardScaler\n",
    "\n",
    "#sc = StandardScaler()\n",
    "#train_x = sc.fit_transform(train_x)\n",
    "#valid_x = sc.transform(valid_x)"
   ]
  },
  {
   "cell_type": "code",
   "execution_count": 433,
   "metadata": {},
   "outputs": [
    {
     "data": {
      "text/plain": [
       "RandomForestClassifier(n_estimators=20, random_state=0)"
      ]
     },
     "execution_count": 433,
     "metadata": {},
     "output_type": "execute_result"
    }
   ],
   "source": [
    "regressor = RandomForestClassifier(n_estimators=20, random_state=0)\n",
    "regressor.fit(train_x, train_y)"
   ]
  },
  {
   "cell_type": "markdown",
   "metadata": {},
   "source": [
    "## Result"
   ]
  },
  {
   "cell_type": "code",
   "execution_count": 434,
   "metadata": {},
   "outputs": [],
   "source": [
    "prediction_y = dtc.predict(valid_x)"
   ]
  },
  {
   "cell_type": "markdown",
   "metadata": {},
   "source": [
    "### classification_report"
   ]
  },
  {
   "cell_type": "markdown",
   "metadata": {},
   "source": [
    "#### Accuracy"
   ]
  },
  {
   "cell_type": "code",
   "execution_count": 435,
   "metadata": {},
   "outputs": [
    {
     "data": {
      "text/plain": [
       "0.9239482200647249"
      ]
     },
     "execution_count": 435,
     "metadata": {},
     "output_type": "execute_result"
    }
   ],
   "source": [
    "accuracy_score(valid_y, prediction_y, normalize=True)"
   ]
  },
  {
   "cell_type": "code",
   "execution_count": 436,
   "metadata": {
    "scrolled": false
   },
   "outputs": [
    {
     "name": "stdout",
     "output_type": "stream",
     "text": [
      "                    precision    recall  f1-score   support\n",
      "\n",
      "  activity_walking       0.91      0.91      0.91       141\n",
      "  activity_running       0.96      0.94      0.95       139\n",
      "  activity_jumping       0.67      0.69      0.68        29\n",
      " activity_standing       0.94      0.96      0.95       139\n",
      "activity_traplopen       0.75      0.77      0.76        31\n",
      "   activity_sitten       0.98      0.97      0.97       139\n",
      "\n",
      "         micro avg       0.92      0.92      0.92       618\n",
      "         macro avg       0.87      0.87      0.87       618\n",
      "      weighted avg       0.92      0.92      0.92       618\n",
      "       samples avg       0.92      0.92      0.92       618\n",
      "\n"
     ]
    }
   ],
   "source": [
    "print(classification_report(valid_y,prediction_y, target_names=['activity_walking', 'activity_running', 'activity_jumping', 'activity_standing', 'activity_traplopen',\n",
    "                  'activity_sitten'], zero_division=0))"
   ]
  },
  {
   "cell_type": "code",
   "execution_count": null,
   "metadata": {},
   "outputs": [],
   "source": []
  }
 ],
 "metadata": {
  "kernelspec": {
   "display_name": "Python 3",
   "language": "python",
   "name": "python3"
  },
  "language_info": {
   "codemirror_mode": {
    "name": "ipython",
    "version": 3
   },
   "file_extension": ".py",
   "mimetype": "text/x-python",
   "name": "python",
   "nbconvert_exporter": "python",
   "pygments_lexer": "ipython3",
   "version": "3.6.10"
  }
 },
 "nbformat": 4,
 "nbformat_minor": 4
}
