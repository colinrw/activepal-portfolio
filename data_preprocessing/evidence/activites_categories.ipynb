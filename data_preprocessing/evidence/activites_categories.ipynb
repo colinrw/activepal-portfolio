{
 "cells": [
  {
   "cell_type": "markdown",
   "metadata": {},
   "source": [
    "Adnan Akbas\n",
    "# activity categories "
   ]
  },
  {
   "cell_type": "code",
   "execution_count": null,
   "metadata": {},
   "outputs": [],
   "source": [
    "from utils import read_functions\n",
    "import os\n",
    "import numpy as np"
   ]
  },
  {
   "cell_type": "code",
   "execution_count": 3,
   "metadata": {},
   "outputs": [],
   "source": [
    "def extract_activities_from_correspondent(correspondent):\n",
    "    # Getting dataset for a correspodent\n",
    "    activities_df = read_functions.read_activities(correspondent)\n",
    "\n",
    "    return np.unique(activities_df.index.to_numpy())"
   ]
  },
  {
   "cell_type": "code",
   "execution_count": 7,
   "metadata": {},
   "outputs": [],
   "source": [
    "def extract_activities():\n",
    "    all_activities = []\n",
    "\n",
    "    for directory in os.walk('../../data'):\n",
    "        if directory[0] == '../../data':\n",
    "            for respDirect in directory[1]:\n",
    "                print(\"Extracting activity from \" + respDirect)\n",
    "                if respDirect not in ['output', 'throughput', '.ipynb_checkpoints']:\n",
    "                    correspondent_activities = extract_activities_from_correspondent(respDirect)\n",
    "                    all_activities = np.concatenate([all_activities, correspondent_activities])\n",
    "\n",
    "    print(\"Done extracting activities\")\n",
    "\n",
    "    return np.unique(all_activities)"
   ]
  },
  {
   "cell_type": "code",
   "execution_count": 8,
   "metadata": {},
   "outputs": [
    {
     "name": "stdout",
     "output_type": "stream",
     "text": [
      "Extracting activity from BMR099\n",
      "Extracting activity from BMR025\n",
      "Extracting activity from BMR060\n",
      "Extracting activity from BMR012\n",
      "Extracting activity from BMR035\n",
      "Extracting activity from BMR030\n",
      "Extracting activity from BMR051\n",
      "Extracting activity from BMR044\n",
      "Extracting activity from BMR043\n",
      "Extracting activity from BMR004\n",
      "Extracting activity from BMR011\n",
      "Extracting activity from BMR098\n",
      "Extracting activity from BMR034\n",
      "Extracting activity from BMR014\n",
      "Extracting activity from BMR036\n",
      "Extracting activity from BMR052\n",
      "Extracting activity from throughput\n",
      "Extracting activity from BMR002\n",
      "Extracting activity from BMR031\n",
      "Extracting activity from BMR097\n",
      "Extracting activity from BMR008\n",
      "Extracting activity from BMR015\n",
      "Extracting activity from BMR033\n",
      "Extracting activity from output\n",
      "Extracting activity from BMR100\n",
      "Extracting activity from BMR064\n",
      "Extracting activity from BMR055\n",
      "Extracting activity from .ipynb_checkpoints\n",
      "Extracting activity from BMR027\n",
      "Extracting activity from BMR041\n",
      "Extracting activity from BMR053\n",
      "Extracting activity from BMR042\n",
      "Extracting activity from BMR018\n",
      "Extracting activity from BMR058\n",
      "Extracting activity from BMR040\n",
      "Extracting activity from BMR032\n",
      "Done extracting activities\n"
     ]
    }
   ],
   "source": [
    "activities = extract_activities()"
   ]
  },
  {
   "cell_type": "code",
   "execution_count": 10,
   "metadata": {},
   "outputs": [
    {
     "data": {
      "text/plain": [
       "array(['fietsen licht', 'fietsen zwaar', 'lopen', 'rennen', 'springen',\n",
       "       'staan', 'traplopen', 'zitten'], dtype=object)"
      ]
     },
     "execution_count": 10,
     "metadata": {},
     "output_type": "execute_result"
    }
   ],
   "source": [
    "activities"
   ]
  },
  {
   "cell_type": "markdown",
   "metadata": {},
   "source": [
    "After conversation with one of our experts we have decided to exclude cycling.\n",
    "\n",
    "This means the categories that will be used are :\n",
    "\n",
    "| Dutch | English |\n",
    "| ------ | ------ |\n",
    "| lopen | walking |\n",
    "| rennen |running |\n",
    "| springen |jumping|\n",
    "| staan | standing |\n",
    "| traplopen | walking stairs |\n",
    "| zitten | sitting|\n"
   ]
  },
  {
   "cell_type": "code",
   "execution_count": 1,
   "metadata": {},
   "outputs": [],
   "source": [
    "activities = ['lopen', 'rennen', 'springen', 'staan', 'traplopen', 'zitten']"
   ]
  }
 ],
 "metadata": {
  "kernelspec": {
   "display_name": "Python 3",
   "language": "python",
   "name": "python3"
  },
  "language_info": {
   "codemirror_mode": {
    "name": "ipython",
    "version": 3
   },
   "file_extension": ".py",
   "mimetype": "text/x-python",
   "name": "python",
   "nbconvert_exporter": "python",
   "pygments_lexer": "ipython3",
   "version": "3.6.10"
  }
 },
 "nbformat": 4,
 "nbformat_minor": 4
}
