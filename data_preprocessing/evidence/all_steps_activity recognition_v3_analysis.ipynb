{
 "cells": [
  {
   "cell_type": "code",
   "execution_count": 1,
   "metadata": {},
   "outputs": [],
   "source": [
    "from helpers import math_helper\n",
    "from sensors.activpal import *\n",
    "from utils import read_functions\n",
    "from scipy import signal\n",
    "from sklearn.model_selection import train_test_split\n",
    "from sklearn import tree\n",
    "from sklearn.metrics import f1_score, plot_confusion_matrix, confusion_matrix, accuracy_score, precision_score, recall_score, confusion_matrix, classification_report\n",
    "from sklearn.ensemble import RandomForestClassifier\n",
    "\n",
    "import pandas as pd\n",
    "import numpy as np\n",
    "import statistics\n",
    "import os\n",
    "\n",
    "import matplotlib.pyplot as plt"
   ]
  },
  {
   "cell_type": "markdown",
   "metadata": {},
   "source": [
    "Adnan Akbas\n",
    "# Feature Extraction"
   ]
  },
  {
   "cell_type": "code",
   "execution_count": 2,
   "metadata": {},
   "outputs": [],
   "source": [
    "activpal = Activpal()\n",
    "\n",
    "features_columns = ['standard_deviation_x', 'mean_x', 'standard_deviation_y', 'mean_y','standard_deviation_z', 'mean_z', 'activiteit']\n",
    "\n",
    "activity_columns = ['activity_walking', 'activity_running', 'activity_jumping', 'activity_standing', 'activity_traplopen', 'activity_sitten']\n",
    "#activity_columns = ['cycling_light','cycling_hard', 'activity_walking', 'activity_running', 'activity_jumping', 'activity_standing', 'activity_traplopen', 'activity_sitten']\n",
    "#activity_columns = ['activity_walking', 'activity_running', 'activity_standing', 'activity_sitten']\n",
    "\n",
    "activities = ['lopen', 'rennen', 'springen', 'staan', 'traplopen', 'zitten']\n",
    "#activities = ['fietsen licht', 'fietsen zwaar', 'lopen', 'rennen', 'springen', 'staan', 'traplopen', 'zitten']\n",
    "#activities = ['lopen', 'rennen', 'staan', 'zitten']\n",
    "\n",
    "test_users = ['BMR002', 'BMR004', 'BMR008']\n",
    "segment_size = 9.4"
   ]
  },
  {
   "cell_type": "code",
   "execution_count": 3,
   "metadata": {},
   "outputs": [],
   "source": [
    "def extract_features_from_correspondent(correspondent):\n",
    "    features_df = pd.DataFrame(columns=features_columns, index=pd.to_datetime([]))\n",
    "\n",
    "    # Getting dataset for a correspodent\n",
    "    activities_df = read_functions.read_activities(correspondent)\n",
    "\n",
    "    for activity_name in activities:\n",
    "        activity = activities_df.loc[activity_name]\n",
    "        if not activity.empty:\n",
    "            start_time = activity.start\n",
    "            stop_time = activity.stop\n",
    "            activpal_df = activpal.read_data(correspondent, start_time, stop_time)\n",
    "\n",
    "            # denormalizing dataset\n",
    "            activpal_df['x'] = math_helper.convert_value_to_g(activpal_df['pal_accX'])\n",
    "            activpal_df['y'] = math_helper.convert_value_to_g(activpal_df['pal_accY'])\n",
    "            activpal_df['z'] = math_helper.convert_value_to_g(activpal_df['pal_accZ'])\n",
    "\n",
    "            date_range = pd.date_range(start_time, stop_time, freq=str(segment_size) + 'S')\n",
    "            \n",
    "            for time in date_range:\n",
    "                segment_time = time + pd.DateOffset(seconds=segment_size)\n",
    "                activpal_segment = activpal_df[(activpal_df.index >= time) & (activpal_df.index <= segment_time)]\n",
    "\n",
    "                stdev_x =  statistics.stdev(activpal_segment['x']) if len(activpal_segment['x']) >= 2 else 0\n",
    "                mean_x = activpal_segment['x'].mean()\n",
    "\n",
    "                stdev_y =  statistics.stdev(activpal_segment['y']) if len(activpal_segment['y']) >= 2 else 0\n",
    "                mean_y = activpal_segment['y'].mean()\n",
    "\n",
    "                stdev_z =  statistics.stdev(activpal_segment['z']) if len(activpal_segment['z']) >= 2 else 0\n",
    "                mean_z = activpal_segment['z'].mean()  \n",
    "\n",
    "\n",
    "                features_df.loc[segment_time] = [stdev_x, mean_x, stdev_y, mean_y, stdev_z, mean_z, activity_name]\n",
    "\n",
    "    return features_df"
   ]
  },
  {
   "cell_type": "code",
   "execution_count": 4,
   "metadata": {},
   "outputs": [],
   "source": [
    "def extract_features_from_all_correspondents():\n",
    "    all_features_df = pd.DataFrame(index=pd.to_datetime([]))\n",
    "\n",
    "    for directory in os.walk('../../data'):\n",
    "        if directory[0] == '../../data':\n",
    "            for respDirect in directory[1]:\n",
    "                if respDirect not in ['output', 'throughput', 'Test data','.ipynb_checkpoints', 'BMR035', 'BMR100', 'BMR051', 'BMR027']:\n",
    "                  #  if respDirect not in test_users:\n",
    "                    print(\"Extracting \" + respDirect)\n",
    "                    features_df = extract_features_from_correspondent(respDirect)\n",
    "                    all_features_df = pd.concat([all_features_df, features_df])\n",
    "\n",
    "    print(\"Done extracting features\")\n",
    "\n",
    "    return all_features_df"
   ]
  },
  {
   "cell_type": "code",
   "execution_count": 5,
   "metadata": {},
   "outputs": [
    {
     "name": "stdout",
     "output_type": "stream",
     "text": [
      "Extracting BMR099\n",
      "Extracting BMR025\n",
      "Extracting BMR060\n",
      "Extracting BMR012\n",
      "Extracting BMR030\n",
      "Extracting BMR044\n",
      "Extracting BMR043\n",
      "Extracting BMR004\n",
      "Extracting BMR011\n",
      "Extracting BMR098\n",
      "Extracting BMR034\n",
      "Extracting BMR014\n",
      "Extracting BMR036\n",
      "Extracting BMR052\n",
      "Extracting BMR002\n",
      "Extracting BMR031\n",
      "Extracting BMR097\n",
      "Extracting BMR008\n",
      "Extracting BMR015\n",
      "Extracting BMR033\n",
      "Extracting BMR064\n",
      "Extracting BMR055\n",
      "Extracting BMR041\n",
      "Extracting BMR053\n",
      "Extracting BMR042\n",
      "Extracting BMR018\n",
      "Extracting BMR058\n",
      "Extracting BMR040\n",
      "Extracting BMR032\n",
      "Done extracting features\n"
     ]
    }
   ],
   "source": [
    "features_dataset = extract_features_from_all_correspondents()"
   ]
  },
  {
   "cell_type": "code",
   "execution_count": 6,
   "metadata": {},
   "outputs": [
    {
     "data": {
      "text/plain": [
       "<matplotlib.axes._subplots.AxesSubplot at 0x7f35e39a1518>"
      ]
     },
     "execution_count": 6,
     "metadata": {},
     "output_type": "execute_result"
    },
    {
     "data": {
      "image/png": "[encoded data removed]",
      "text/plain": [
       "<Figure size 432x288 with 1 Axes>"
      ]
     },
     "metadata": {
      "needs_background": "light"
     },
     "output_type": "display_data"
    }
   ],
   "source": [
    "features_dataset['activiteit'].value_counts().plot.bar(ylabel='rows count',xlabel='activties',title='balanced')"
   ]
  },
  {
   "cell_type": "markdown",
   "metadata": {},
   "source": [
    "# model preperation"
   ]
  },
  {
   "cell_type": "code",
   "execution_count": 7,
   "metadata": {},
   "outputs": [
    {
     "data": {
      "text/html": [
       "<div>\n",
       "<style scoped>\n",
       "    .dataframe tbody tr th:only-of-type {\n",
       "        vertical-align: middle;\n",
       "    }\n",
       "\n",
       "    .dataframe tbody tr th {\n",
       "        vertical-align: top;\n",
       "    }\n",
       "\n",
       "    .dataframe thead th {\n",
       "        text-align: right;\n",
       "    }\n",
       "</style>\n",
       "<table border=\"1\" class=\"dataframe\">\n",
       "  <thead>\n",
       "    <tr style=\"text-align: right;\">\n",
       "      <th></th>\n",
       "      <th>standard_deviation_x</th>\n",
       "      <th>mean_x</th>\n",
       "      <th>standard_deviation_y</th>\n",
       "      <th>mean_y</th>\n",
       "      <th>standard_deviation_z</th>\n",
       "      <th>mean_z</th>\n",
       "      <th>activity_walking</th>\n",
       "      <th>activity_running</th>\n",
       "      <th>activity_jumping</th>\n",
       "      <th>activity_standing</th>\n",
       "      <th>activity_traplopen</th>\n",
       "      <th>activity_sitten</th>\n",
       "    </tr>\n",
       "  </thead>\n",
       "  <tbody>\n",
       "    <tr>\n",
       "      <th>2019-09-12 10:59:00.400</th>\n",
       "      <td>0.378517</td>\n",
       "      <td>-1.036474</td>\n",
       "      <td>0.257205</td>\n",
       "      <td>0.031408</td>\n",
       "      <td>0.450403</td>\n",
       "      <td>0.179331</td>\n",
       "      <td>1</td>\n",
       "      <td>0</td>\n",
       "      <td>0</td>\n",
       "      <td>0</td>\n",
       "      <td>0</td>\n",
       "      <td>0</td>\n",
       "    </tr>\n",
       "    <tr>\n",
       "      <th>2019-09-12 10:59:09.800</th>\n",
       "      <td>0.457929</td>\n",
       "      <td>-1.053276</td>\n",
       "      <td>0.375039</td>\n",
       "      <td>0.026342</td>\n",
       "      <td>0.575255</td>\n",
       "      <td>0.167258</td>\n",
       "      <td>1</td>\n",
       "      <td>0</td>\n",
       "      <td>0</td>\n",
       "      <td>0</td>\n",
       "      <td>0</td>\n",
       "      <td>0</td>\n",
       "    </tr>\n",
       "    <tr>\n",
       "      <th>2019-09-12 10:59:19.200</th>\n",
       "      <td>0.510900</td>\n",
       "      <td>-1.023472</td>\n",
       "      <td>0.332070</td>\n",
       "      <td>0.039598</td>\n",
       "      <td>0.576759</td>\n",
       "      <td>0.159659</td>\n",
       "      <td>1</td>\n",
       "      <td>0</td>\n",
       "      <td>0</td>\n",
       "      <td>0</td>\n",
       "      <td>0</td>\n",
       "      <td>0</td>\n",
       "    </tr>\n",
       "    <tr>\n",
       "      <th>2019-09-12 10:59:28.600</th>\n",
       "      <td>0.504993</td>\n",
       "      <td>-1.044326</td>\n",
       "      <td>0.352168</td>\n",
       "      <td>0.042806</td>\n",
       "      <td>0.535771</td>\n",
       "      <td>0.170550</td>\n",
       "      <td>1</td>\n",
       "      <td>0</td>\n",
       "      <td>0</td>\n",
       "      <td>0</td>\n",
       "      <td>0</td>\n",
       "      <td>0</td>\n",
       "    </tr>\n",
       "    <tr>\n",
       "      <th>2019-09-12 10:59:38.000</th>\n",
       "      <td>0.518234</td>\n",
       "      <td>-1.026765</td>\n",
       "      <td>0.403235</td>\n",
       "      <td>0.027018</td>\n",
       "      <td>0.580535</td>\n",
       "      <td>0.139986</td>\n",
       "      <td>1</td>\n",
       "      <td>0</td>\n",
       "      <td>0</td>\n",
       "      <td>0</td>\n",
       "      <td>0</td>\n",
       "      <td>0</td>\n",
       "    </tr>\n",
       "  </tbody>\n",
       "</table>\n",
       "</div>"
      ],
      "text/plain": [
       "                         standard_deviation_x    mean_x  standard_deviation_y  \\\n",
       "2019-09-12 10:59:00.400              0.378517 -1.036474              0.257205   \n",
       "2019-09-12 10:59:09.800              0.457929 -1.053276              0.375039   \n",
       "2019-09-12 10:59:19.200              0.510900 -1.023472              0.332070   \n",
       "2019-09-12 10:59:28.600              0.504993 -1.044326              0.352168   \n",
       "2019-09-12 10:59:38.000              0.518234 -1.026765              0.403235   \n",
       "\n",
       "                           mean_y  standard_deviation_z    mean_z  \\\n",
       "2019-09-12 10:59:00.400  0.031408              0.450403  0.179331   \n",
       "2019-09-12 10:59:09.800  0.026342              0.575255  0.167258   \n",
       "2019-09-12 10:59:19.200  0.039598              0.576759  0.159659   \n",
       "2019-09-12 10:59:28.600  0.042806              0.535771  0.170550   \n",
       "2019-09-12 10:59:38.000  0.027018              0.580535  0.139986   \n",
       "\n",
       "                         activity_walking  activity_running  activity_jumping  \\\n",
       "2019-09-12 10:59:00.400                 1                 0                 0   \n",
       "2019-09-12 10:59:09.800                 1                 0                 0   \n",
       "2019-09-12 10:59:19.200                 1                 0                 0   \n",
       "2019-09-12 10:59:28.600                 1                 0                 0   \n",
       "2019-09-12 10:59:38.000                 1                 0                 0   \n",
       "\n",
       "                         activity_standing  activity_traplopen  \\\n",
       "2019-09-12 10:59:00.400                  0                   0   \n",
       "2019-09-12 10:59:09.800                  0                   0   \n",
       "2019-09-12 10:59:19.200                  0                   0   \n",
       "2019-09-12 10:59:28.600                  0                   0   \n",
       "2019-09-12 10:59:38.000                  0                   0   \n",
       "\n",
       "                         activity_sitten  \n",
       "2019-09-12 10:59:00.400                0  \n",
       "2019-09-12 10:59:09.800                0  \n",
       "2019-09-12 10:59:19.200                0  \n",
       "2019-09-12 10:59:28.600                0  \n",
       "2019-09-12 10:59:38.000                0  "
      ]
     },
     "execution_count": 7,
     "metadata": {},
     "output_type": "execute_result"
    }
   ],
   "source": [
    "features_dataset[activity_columns] = 0\n",
    "\n",
    "features_dataset.loc[(features_dataset['activiteit'] == 'lopen'), 'activity_walking'] = 1\n",
    "features_dataset.loc[(features_dataset['activiteit'] == 'rennen'), 'activity_running'] = 1\n",
    "features_dataset.loc[(features_dataset['activiteit'] == 'springen'), 'activity_jumping'] = 1\n",
    "features_dataset.loc[(features_dataset['activiteit'] == 'staan'), 'activity_standing'] = 1\n",
    "features_dataset.loc[(features_dataset['activiteit'] == 'traplopen'), 'activity_traplopen'] = 1\n",
    "features_dataset.loc[(features_dataset['activiteit'] == 'zitten'), 'activity_sitten'] = 1\n",
    "#features_dataset.loc[(features_dataset['activiteit'] == 'fietsen licht'), 'cycling_light'] = 1\n",
    "#features_dataset.loc[(features_dataset['activiteit'] == 'fietsen zwaar'), 'cycling_hard'] = 1\n",
    "\n",
    "\n",
    "\n",
    "features_dataset.drop('activiteit', axis=1, inplace=True)\n",
    "features_dataset.dropna(how='any', inplace=True)\n",
    "\n",
    "features_dataset.head()"
   ]
  },
  {
   "cell_type": "markdown",
   "metadata": {},
   "source": [
    "## Preparing feature dataset for learning\n",
    "### Splitting in x and y"
   ]
  },
  {
   "cell_type": "code",
   "execution_count": 8,
   "metadata": {},
   "outputs": [
    {
     "data": {
      "text/html": [
       "<div>\n",
       "<style scoped>\n",
       "    .dataframe tbody tr th:only-of-type {\n",
       "        vertical-align: middle;\n",
       "    }\n",
       "\n",
       "    .dataframe tbody tr th {\n",
       "        vertical-align: top;\n",
       "    }\n",
       "\n",
       "    .dataframe thead th {\n",
       "        text-align: right;\n",
       "    }\n",
       "</style>\n",
       "<table border=\"1\" class=\"dataframe\">\n",
       "  <thead>\n",
       "    <tr style=\"text-align: right;\">\n",
       "      <th></th>\n",
       "      <th>standard_deviation_x</th>\n",
       "      <th>mean_x</th>\n",
       "      <th>standard_deviation_y</th>\n",
       "      <th>mean_y</th>\n",
       "      <th>standard_deviation_z</th>\n",
       "      <th>mean_z</th>\n",
       "    </tr>\n",
       "  </thead>\n",
       "  <tbody>\n",
       "    <tr>\n",
       "      <th>2019-10-11 13:00:13.200</th>\n",
       "      <td>0.027560</td>\n",
       "      <td>-1.091185</td>\n",
       "      <td>0.090588</td>\n",
       "      <td>0.035292</td>\n",
       "      <td>0.068144</td>\n",
       "      <td>0.137369</td>\n",
       "    </tr>\n",
       "    <tr>\n",
       "      <th>2019-09-30 15:46:08.600</th>\n",
       "      <td>0.070672</td>\n",
       "      <td>-1.060199</td>\n",
       "      <td>0.170202</td>\n",
       "      <td>0.103934</td>\n",
       "      <td>0.169147</td>\n",
       "      <td>0.182118</td>\n",
       "    </tr>\n",
       "    <tr>\n",
       "      <th>2019-10-08 14:47:08.400</th>\n",
       "      <td>0.000000</td>\n",
       "      <td>0.158730</td>\n",
       "      <td>0.000000</td>\n",
       "      <td>-0.206349</td>\n",
       "      <td>0.000000</td>\n",
       "      <td>1.111111</td>\n",
       "    </tr>\n",
       "    <tr>\n",
       "      <th>2019-09-30 14:14:44.000</th>\n",
       "      <td>0.394894</td>\n",
       "      <td>-1.031915</td>\n",
       "      <td>0.255272</td>\n",
       "      <td>0.125633</td>\n",
       "      <td>0.359886</td>\n",
       "      <td>0.191067</td>\n",
       "    </tr>\n",
       "    <tr>\n",
       "      <th>2019-10-10 15:38:00.600</th>\n",
       "      <td>0.478484</td>\n",
       "      <td>-1.077014</td>\n",
       "      <td>0.306276</td>\n",
       "      <td>0.137398</td>\n",
       "      <td>0.516153</td>\n",
       "      <td>0.093726</td>\n",
       "    </tr>\n",
       "  </tbody>\n",
       "</table>\n",
       "</div>"
      ],
      "text/plain": [
       "                         standard_deviation_x    mean_x  standard_deviation_y  \\\n",
       "2019-10-11 13:00:13.200              0.027560 -1.091185              0.090588   \n",
       "2019-09-30 15:46:08.600              0.070672 -1.060199              0.170202   \n",
       "2019-10-08 14:47:08.400              0.000000  0.158730              0.000000   \n",
       "2019-09-30 14:14:44.000              0.394894 -1.031915              0.255272   \n",
       "2019-10-10 15:38:00.600              0.478484 -1.077014              0.306276   \n",
       "\n",
       "                           mean_y  standard_deviation_z    mean_z  \n",
       "2019-10-11 13:00:13.200  0.035292              0.068144  0.137369  \n",
       "2019-09-30 15:46:08.600  0.103934              0.169147  0.182118  \n",
       "2019-10-08 14:47:08.400 -0.206349              0.000000  1.111111  \n",
       "2019-09-30 14:14:44.000  0.125633              0.359886  0.191067  \n",
       "2019-10-10 15:38:00.600  0.137398              0.516153  0.093726  "
      ]
     },
     "execution_count": 8,
     "metadata": {},
     "output_type": "execute_result"
    }
   ],
   "source": [
    "x = features_dataset[features_columns[:-1]]\n",
    "y = features_dataset[activity_columns]\n",
    "train_x, valid_x, train_y, valid_y = train_test_split(x,y, test_size=0.2, random_state=23, stratify=y)\n",
    "\n",
    "train_x.head()"
   ]
  },
  {
   "cell_type": "code",
   "execution_count": 9,
   "metadata": {},
   "outputs": [
    {
     "data": {
      "text/html": [
       "<div>\n",
       "<style scoped>\n",
       "    .dataframe tbody tr th:only-of-type {\n",
       "        vertical-align: middle;\n",
       "    }\n",
       "\n",
       "    .dataframe tbody tr th {\n",
       "        vertical-align: top;\n",
       "    }\n",
       "\n",
       "    .dataframe thead th {\n",
       "        text-align: right;\n",
       "    }\n",
       "</style>\n",
       "<table border=\"1\" class=\"dataframe\">\n",
       "  <thead>\n",
       "    <tr style=\"text-align: right;\">\n",
       "      <th></th>\n",
       "      <th>activity_walking</th>\n",
       "      <th>activity_running</th>\n",
       "      <th>activity_jumping</th>\n",
       "      <th>activity_standing</th>\n",
       "      <th>activity_traplopen</th>\n",
       "      <th>activity_sitten</th>\n",
       "    </tr>\n",
       "  </thead>\n",
       "  <tbody>\n",
       "    <tr>\n",
       "      <th>2019-10-11 13:00:13.200</th>\n",
       "      <td>0</td>\n",
       "      <td>0</td>\n",
       "      <td>0</td>\n",
       "      <td>1</td>\n",
       "      <td>0</td>\n",
       "      <td>0</td>\n",
       "    </tr>\n",
       "    <tr>\n",
       "      <th>2019-09-30 15:46:08.600</th>\n",
       "      <td>0</td>\n",
       "      <td>0</td>\n",
       "      <td>0</td>\n",
       "      <td>1</td>\n",
       "      <td>0</td>\n",
       "      <td>0</td>\n",
       "    </tr>\n",
       "    <tr>\n",
       "      <th>2019-10-08 14:47:08.400</th>\n",
       "      <td>0</td>\n",
       "      <td>0</td>\n",
       "      <td>0</td>\n",
       "      <td>0</td>\n",
       "      <td>0</td>\n",
       "      <td>1</td>\n",
       "    </tr>\n",
       "    <tr>\n",
       "      <th>2019-09-30 14:14:44.000</th>\n",
       "      <td>1</td>\n",
       "      <td>0</td>\n",
       "      <td>0</td>\n",
       "      <td>0</td>\n",
       "      <td>0</td>\n",
       "      <td>0</td>\n",
       "    </tr>\n",
       "    <tr>\n",
       "      <th>2019-10-10 15:38:00.600</th>\n",
       "      <td>1</td>\n",
       "      <td>0</td>\n",
       "      <td>0</td>\n",
       "      <td>0</td>\n",
       "      <td>0</td>\n",
       "      <td>0</td>\n",
       "    </tr>\n",
       "  </tbody>\n",
       "</table>\n",
       "</div>"
      ],
      "text/plain": [
       "                         activity_walking  activity_running  activity_jumping  \\\n",
       "2019-10-11 13:00:13.200                 0                 0                 0   \n",
       "2019-09-30 15:46:08.600                 0                 0                 0   \n",
       "2019-10-08 14:47:08.400                 0                 0                 0   \n",
       "2019-09-30 14:14:44.000                 1                 0                 0   \n",
       "2019-10-10 15:38:00.600                 1                 0                 0   \n",
       "\n",
       "                         activity_standing  activity_traplopen  \\\n",
       "2019-10-11 13:00:13.200                  1                   0   \n",
       "2019-09-30 15:46:08.600                  1                   0   \n",
       "2019-10-08 14:47:08.400                  0                   0   \n",
       "2019-09-30 14:14:44.000                  0                   0   \n",
       "2019-10-10 15:38:00.600                  0                   0   \n",
       "\n",
       "                         activity_sitten  \n",
       "2019-10-11 13:00:13.200                0  \n",
       "2019-09-30 15:46:08.600                0  \n",
       "2019-10-08 14:47:08.400                1  \n",
       "2019-09-30 14:14:44.000                0  \n",
       "2019-10-10 15:38:00.600                0  "
      ]
     },
     "execution_count": 9,
     "metadata": {},
     "output_type": "execute_result"
    }
   ],
   "source": [
    "train_y.head()"
   ]
  },
  {
   "cell_type": "markdown",
   "metadata": {},
   "source": [
    "# Random tree forest"
   ]
  },
  {
   "cell_type": "code",
   "execution_count": 72,
   "metadata": {},
   "outputs": [
    {
     "data": {
      "text/plain": [
       "RandomForestClassifier(n_estimators=179, random_state=0)"
      ]
     },
     "execution_count": 72,
     "metadata": {},
     "output_type": "execute_result"
    }
   ],
   "source": [
    "ftc = RandomForestClassifier(n_estimators=179, random_state=0)\n",
    "ftc.fit(train_x, train_y)"
   ]
  },
  {
   "cell_type": "markdown",
   "metadata": {},
   "source": [
    "## Testing and results"
   ]
  },
  {
   "cell_type": "code",
   "execution_count": 73,
   "metadata": {},
   "outputs": [],
   "source": [
    "prediction_y = ftc.predict(valid_x)"
   ]
  },
  {
   "cell_type": "markdown",
   "metadata": {},
   "source": [
    "### Result"
   ]
  },
  {
   "cell_type": "markdown",
   "metadata": {},
   "source": [
    "#### Accuracy"
   ]
  },
  {
   "cell_type": "code",
   "execution_count": 76,
   "metadata": {},
   "outputs": [
    {
     "data": {
      "text/plain": [
       "0.9503030303030303"
      ]
     },
     "execution_count": 76,
     "metadata": {},
     "output_type": "execute_result"
    }
   ],
   "source": [
    "accuracy_score(valid_y, prediction_y, normalize=True)"
   ]
  },
  {
   "cell_type": "markdown",
   "metadata": {},
   "source": [
    "#### Classification report "
   ]
  },
  {
   "cell_type": "code",
   "execution_count": 77,
   "metadata": {
    "scrolled": false
   },
   "outputs": [
    {
     "name": "stdout",
     "output_type": "stream",
     "text": [
      "                    precision    recall  f1-score   support\n",
      "\n",
      "  activity_walking       0.93      0.97      0.95       189\n",
      "  activity_running       0.99      0.96      0.98       187\n",
      "  activity_jumping       0.96      0.59      0.73        37\n",
      " activity_standing       0.94      0.99      0.97       186\n",
      "activity_traplopen       0.97      0.76      0.85        41\n",
      "   activity_sitten       0.99      0.98      0.99       185\n",
      "\n",
      "         micro avg       0.96      0.95      0.96       825\n",
      "         macro avg       0.96      0.88      0.91       825\n",
      "      weighted avg       0.96      0.95      0.95       825\n",
      "       samples avg       0.95      0.95      0.95       825\n",
      "\n"
     ]
    }
   ],
   "source": [
    "print(classification_report(valid_y,prediction_y, target_names=activity_columns, zero_division=0))"
   ]
  },
  {
   "cell_type": "markdown",
   "metadata": {},
   "source": [
    "### Confusion matrix"
   ]
  },
  {
   "cell_type": "code",
   "execution_count": 78,
   "metadata": {},
   "outputs": [
    {
     "data": {
      "text/plain": [
       "Text(69.0, 0.5, 'true label')"
      ]
     },
     "execution_count": 78,
     "metadata": {},
     "output_type": "execute_result"
    },
    {
     "data": {
      "image/png": "[encoded data removed]",
      "text/plain": [
       "<Figure size 720x504 with 2 Axes>"
      ]
     },
     "metadata": {
      "needs_background": "light"
     },
     "output_type": "display_data"
    }
   ],
   "source": [
    "import seaborn as sn\n",
    "\n",
    "#confusion_matrix(valid_y, prediction_y)\n",
    "cm = confusion_matrix(valid_y.values.argmax(axis=1), prediction_y.argmax(axis=1), normalize='true')\n",
    "\n",
    "df_cm = pd.DataFrame(cm, index=activities, columns=activities)\n",
    "df_cm.head()\n",
    "plt.figure(figsize = (10,7))\n",
    "sn.heatmap(df_cm, annot=True, cmap='Blues')\n",
    "\n",
    "plt.title(\"Validation dataset\")\n",
    "plt.xlabel(\"predicted label\")\n",
    "plt.ylabel(\"true label\")"
   ]
  },
  {
   "cell_type": "markdown",
   "metadata": {},
   "source": [
    "# Result Summary\n",
    "\n",
    "Random seed: 23\n",
    "n_estimators: 20\n",
    "\n",
    "\n",
    "### With balanced dataset\n",
    "|Features| |\n",
    "|-----| ----|\n",
    "| standard_deviation_x| mean_x|\n",
    "| standard_deviation_y| mean_y|\n",
    "| standard_deviation_z| mean_z|\n",
    "\n",
    "| Time range | Accuracy | Precision |  Recall |F1|\n",
    "| ------ | ------ | ------ | ------ |------- |\n",
    "| 0.4S  | 93% | 96% | 93% | 95% | \n",
    "| 0.8S  | 95% | 97% | 95% | 96% |\n",
    "| 1.0S  | 95% | 98% | 95% | 96% |\n",
    "| 1.6S  | 95% | 97% | 95% | 96% |\n",
    "| 2.0S  | 95% | 97% | 95% | 96% |\n",
    "| 3.2S  | 96% | 98% | 96% | 97% |\n",
    "| 4.0S  | 95% | 98% | 95% | 96% |\n",
    "| 6.4S  | 97% | 98% | 97% | 97% | \n",
    "| 8.0S  | 96% | 98% | 96% | 97% |\n",
    "| 10.0S | 96% | 99% | 96% | 97% |\n",
    "| 12.8S | 97% | 98% | 97% | 97% |\n",
    "\n",
    "Best results:\n",
    "\n",
    "| Time range | Accuracy | Precision |  Recall |F1|\n",
    "| ------ | ------ | ------ | ------ |------- |\n",
    "| 6.4S  | 97% | 98% | 97% | 97% | \n",
    "| 12.8S | 97% | 98% | 97% | 97% |\n",
    "\n"
   ]
  },
  {
   "cell_type": "markdown",
   "metadata": {},
   "source": [
    "## Diagnostics\n",
    "### Cross validation analysis"
   ]
  },
  {
   "cell_type": "code",
   "execution_count": 80,
   "metadata": {},
   "outputs": [],
   "source": [
    "from sklearn.model_selection import cross_val_score, StratifiedKFold, KFold\n",
    "import seaborn as sn\n",
    "from sklearn.model_selection import cross_val_predict\n",
    "\n",
    "rfc = RandomForestClassifier(n_estimators=179, random_state=0)\n",
    "pred_y = cross_val_predict(rfc, x, y)"
   ]
  },
  {
   "cell_type": "code",
   "execution_count": 81,
   "metadata": {},
   "outputs": [
    {
     "name": "stdout",
     "output_type": "stream",
     "text": [
      "Accuracy: 0.84 (+/- 0.04)\n",
      "Recall: 0.84 (+/- 0.04)\n",
      "Precision: 0.89 (+/- 0.02)\n"
     ]
    }
   ],
   "source": [
    "accuracy_scores = cross_val_score(rfc, x, y, scoring='accuracy')\n",
    "recall_scores = cross_val_score(rfc, x, y , scoring='recall_micro')\n",
    "precision_scores = cross_val_score(rfc, x, y , scoring='precision_micro')\n",
    "\n",
    "print(\"Accuracy: %0.2f (+/- %0.2f)\" % (accuracy_scores.mean(), accuracy_scores.std() ))\n",
    "print(\"Recall: %0.2f (+/- %0.2f)\" % (recall_scores.mean(), recall_scores.std() ))\n",
    "print(\"Precision: %0.2f (+/- %0.2f)\" % (precision_scores.mean(), precision_scores.std() ))"
   ]
  },
  {
   "cell_type": "markdown",
   "metadata": {},
   "source": [
    "K-fold crossvalidation gives 86% accuracy  on average. This means that our model works pretty well"
   ]
  },
  {
   "cell_type": "code",
   "execution_count": 17,
   "metadata": {},
   "outputs": [],
   "source": [
    "skf = KFold(n_splits=5, shuffle=True)\n",
    "\n",
    "accuracy_scores = np.array([])\n",
    "recall_scores = np.array([])\n",
    "precision_scores = np.array([])"
   ]
  },
  {
   "cell_type": "code",
   "execution_count": 18,
   "metadata": {},
   "outputs": [],
   "source": [
    "for train_index, test_index in skf.split(x, y):\n",
    "    x_train, y_train = x.iloc[train_index], y.iloc[train_index]\n",
    "    x_test, y_test = x.iloc[test_index], y.iloc[test_index]\n",
    "    \n",
    "    rfc = RandomForestClassifier(n_estimators=20, random_state=0)\n",
    "    rfc.fit(x_train, y_train)\n",
    "    \n",
    "    predictions = rfc.predict(x_test)\n",
    "    \n",
    "    accuracy_scores  = np.append(accuracy_scores, accuracy_score(y_test, predictions, normalize=True))\n",
    "    recall_scores    = np.append(recall_scores, recall_score(y_test, predictions, average='micro'))\n",
    "    precision_scores = np.append(precision_scores, precision_score(y_test, predictions, average='micro'))"
   ]
  },
  {
   "cell_type": "code",
   "execution_count": 19,
   "metadata": {},
   "outputs": [
    {
     "data": {
      "text/plain": [
       "0.9308902618417182"
      ]
     },
     "execution_count": 19,
     "metadata": {},
     "output_type": "execute_result"
    }
   ],
   "source": [
    "accuracy_scores.mean()"
   ]
  },
  {
   "cell_type": "code",
   "execution_count": 20,
   "metadata": {},
   "outputs": [
    {
     "data": {
      "text/plain": [
       "0.9308902618417182"
      ]
     },
     "execution_count": 20,
     "metadata": {},
     "output_type": "execute_result"
    }
   ],
   "source": [
    "recall_scores.mean()"
   ]
  },
  {
   "cell_type": "code",
   "execution_count": 21,
   "metadata": {},
   "outputs": [
    {
     "data": {
      "text/plain": [
       "0.9561694207718183"
      ]
     },
     "execution_count": 21,
     "metadata": {},
     "output_type": "execute_result"
    }
   ],
   "source": [
    "precision_scores.mean()"
   ]
  },
  {
   "cell_type": "code",
   "execution_count": 22,
   "metadata": {},
   "outputs": [],
   "source": [
    "#grid search cv sklearn"
   ]
  },
  {
   "cell_type": "code",
   "execution_count": 68,
   "metadata": {},
   "outputs": [],
   "source": [
    "#### Quick analysis\n",
    "accuracy_scores = []\n",
    "f1_scores = []\n",
    "#precision_scores = []\n",
    "\n",
    "n_estimator_numbers = range(175,300)\n",
    "\n",
    "for i in n_estimator_numbers:\n",
    "    rfc_t = RandomForestClassifier(n_estimators=i, random_state=0)\n",
    "    rfc_t.fit(train_x, train_y)\n",
    "    \n",
    "    predictions = rfc_t.predict(valid_x)\n",
    "    \n",
    "    accuracy_scores.append(accuracy_score(valid_y, predictions, normalize=True))\n",
    "    f1_scores.append(f1_score(valid_y, predictions, average='micro' ))\n",
    "    #precision_scores.append(precision_score(valid_y, predictions, average='micro'))"
   ]
  },
  {
   "cell_type": "code",
   "execution_count": 69,
   "metadata": {},
   "outputs": [
    {
     "data": {
      "text/plain": [
       "<matplotlib.legend.Legend at 0x7f35dd903048>"
      ]
     },
     "execution_count": 69,
     "metadata": {},
     "output_type": "execute_result"
    },
    {
     "data": {
      "image/png": "[encoded data removed]",
      "text/plain": [
       "<Figure size 432x288 with 1 Axes>"
      ]
     },
     "metadata": {
      "needs_background": "light"
     },
     "output_type": "display_data"
    }
   ],
   "source": [
    "plt.plot(n_estimator_numbers, accuracy_scores, label='accuracy')\n",
    "plt.plot(n_estimator_numbers, f1_scores, label='f1')\n",
    "\n",
    "plt.xlabel('Trees')\n",
    "plt.ylabel('score')\n",
    "#plt.plot(n_estimator_numbers, precision_scores, label='precision')\n",
    "\n",
    "plt.legend()"
   ]
  },
  {
   "cell_type": "code",
   "execution_count": 70,
   "metadata": {},
   "outputs": [],
   "source": [
    "np_accuracy_scores = np.array(accuracy_scores)\n",
    "np_f1_scores = np.array(f1_scores)"
   ]
  },
  {
   "cell_type": "code",
   "execution_count": 71,
   "metadata": {},
   "outputs": [
    {
     "name": "stdout",
     "output_type": "stream",
     "text": [
      "accuracy:  179\n",
      "f1:  179\n"
     ]
    }
   ],
   "source": [
    "best_accuracy_index = np.argmax(np_accuracy_scores)\n",
    "best_f1_index = np.argmax(np_f1_scores)\n",
    "\n",
    "print('accuracy: ', n_estimator_numbers[best_accuracy_index])\n",
    "print('f1: ', n_estimator_numbers[best_f1_index])"
   ]
  },
  {
   "cell_type": "code",
   "execution_count": null,
   "metadata": {},
   "outputs": [],
   "source": []
  }
 ],
 "metadata": {
  "kernelspec": {
   "display_name": "Python 3",
   "language": "python",
   "name": "python3"
  },
  "language_info": {
   "codemirror_mode": {
    "name": "ipython",
    "version": 3
   },
   "file_extension": ".py",
   "mimetype": "text/x-python",
   "name": "python",
   "nbconvert_exporter": "python",
   "pygments_lexer": "ipython3",
   "version": "3.6.10"
  }
 },
 "nbformat": 4,
 "nbformat_minor": 4
}
