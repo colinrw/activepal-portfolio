{
 "cells": [
  {
   "cell_type": "code",
   "execution_count": 1,
   "metadata": {},
   "outputs": [],
   "source": [
    "from helpers import math_helper\n",
    "from sensors.activpal import *\n",
    "from utils import read_functions\n",
    "from scipy import signal\n",
    "from sklearn.model_selection import train_test_split\n",
    "from sklearn import tree\n",
    "from sklearn.metrics import f1_score, plot_confusion_matrix, confusion_matrix, accuracy_score, precision_score, recall_score, confusion_matrix, classification_report\n",
    "from sklearn.ensemble import RandomForestClassifier\n",
    "\n",
    "import pandas as pd\n",
    "import numpy as np\n",
    "import statistics\n",
    "import os\n",
    "\n",
    "import matplotlib.pyplot as plt"
   ]
  },
  {
   "cell_type": "markdown",
   "metadata": {},
   "source": [
    "Adnan Akbas\n",
    "# Feature Extraction"
   ]
  },
  {
   "cell_type": "code",
   "execution_count": 2,
   "metadata": {},
   "outputs": [],
   "source": [
    "activpal = Activpal()\n",
    "\n",
    "features_columns = ['standard_deviation_x', 'mean_x', 'standard_deviation_y', 'mean_y','standard_deviation_z', 'mean_z', 'activiteit']\n",
    "activity_columns = ['cycling_light','cycling_hard', 'activity_walking', 'activity_running', 'activity_jumping', 'activity_standing', 'activity_traplopen', 'activity_sitten']\n",
    "activities = ['fietsen licht', 'fietsen zwaar', 'lopen', 'rennen', 'springen', 'staan', 'traplopen', 'zitten']\n",
    "test_users = ['BMR032', 'BMR042', 'BMR098']\n",
    "segment_size = 9.4"
   ]
  },
  {
   "cell_type": "code",
   "execution_count": 3,
   "metadata": {},
   "outputs": [],
   "source": [
    "def extract_features_from_correspondent(correspondent):\n",
    "    features_df = pd.DataFrame(columns=features_columns, index=pd.to_datetime([]))\n",
    "\n",
    "    # Getting dataset for a correspodent\n",
    "    activities_df = read_functions.read_activities(correspondent)\n",
    "        \n",
    "    for activity_name in activities:\n",
    "        activity = activities_df.loc[activity_name]\n",
    "        if not activity.empty:\n",
    "            start_time = activity.start\n",
    "            stop_time = activity.stop\n",
    "            activpal_df = activpal.read_data(correspondent, start_time, stop_time)\n",
    "\n",
    "            # denormalizing dataset\n",
    "            activpal_df['x'] = math_helper.convert_value_to_g(activpal_df['pal_accX'])\n",
    "            activpal_df['y'] = math_helper.convert_value_to_g(activpal_df['pal_accY'])\n",
    "            activpal_df['z'] = math_helper.convert_value_to_g(activpal_df['pal_accZ'])\n",
    "\n",
    "            date_range = pd.date_range(start_time, stop_time, freq=str(segment_size) + 'S')\n",
    "            \n",
    "            for time in date_range:\n",
    "                segment_time = time + pd.DateOffset(seconds=segment_size)\n",
    "                activpal_segment = activpal_df[(activpal_df.index >= time) & (activpal_df.index <= segment_time)]\n",
    "\n",
    "                stdev_x =  statistics.stdev(activpal_segment['x']) if len(activpal_segment['x']) >= 2 else 0\n",
    "                mean_x = activpal_segment['x'].mean()\n",
    "\n",
    "                stdev_y =  statistics.stdev(activpal_segment['y']) if len(activpal_segment['y']) >= 2 else 0\n",
    "                mean_y = activpal_segment['y'].mean()\n",
    "\n",
    "                stdev_z =  statistics.stdev(activpal_segment['z']) if len(activpal_segment['z']) >= 2 else 0\n",
    "                mean_z = activpal_segment['z'].mean()  \n",
    "\n",
    "\n",
    "                features_df.loc[segment_time] = [stdev_x, mean_x, stdev_y, mean_y, stdev_z, mean_z, activity_name]\n",
    "\n",
    "    return features_df"
   ]
  },
  {
   "cell_type": "code",
   "execution_count": 4,
   "metadata": {},
   "outputs": [],
   "source": [
    "def extract_features_from_correspondents(correspodents):\n",
    "    all_features_df = pd.DataFrame(index=pd.to_datetime([]))\n",
    "\n",
    "    for correspodent in correspodents:\n",
    "        print(\"Extracting \" + correspodent)\n",
    "        \n",
    "        features_df     = extract_features_from_correspondent(correspodent)\n",
    "        all_features_df = pd.concat([all_features_df, features_df])\n",
    "    \n",
    "    print(\"Done extracting features\")\n",
    "\n",
    "    return all_features_df\n",
    "\n",
    "def extract_features_from_all_correspondents(exclude_test_correspodent = True):\n",
    "    \n",
    "    exclude = ['output', 'throughput', 'Test data','.ipynb_checkpoints', 'BRM015', 'BMR035', 'BMR100', 'BMR051', 'BMR027']\n",
    "    \n",
    "    if (exclude_test_correspodent):\n",
    "        exclude = exclude + test_users\n",
    "    \n",
    "    correspodents = []\n",
    "    \n",
    "    for directory in os.walk('../../data'):\n",
    "        if directory[0] == '../../data':\n",
    "            correspodents = directory[1]\n",
    "            \n",
    "    for exclude_item in exclude:\n",
    "        if exclude_item in correspodents:\n",
    "            correspodents.remove(exclude_item)\n",
    "        \n",
    "    return extract_features_from_correspondents(correspodents)"
   ]
  },
  {
   "cell_type": "code",
   "execution_count": 5,
   "metadata": {},
   "outputs": [
    {
     "name": "stdout",
     "output_type": "stream",
     "text": [
      "Extracting BMR099\n",
      "Extracting BMR025\n",
      "Extracting BMR060\n",
      "Extracting BMR012\n",
      "Extracting BMR030\n",
      "Extracting BMR044\n",
      "Extracting BMR043\n",
      "Extracting BMR004\n",
      "Extracting BMR011\n",
      "Extracting BMR034\n",
      "Extracting BMR014\n",
      "Extracting BMR036\n",
      "Extracting BMR052\n",
      "Extracting BMR002\n",
      "Extracting BMR031\n",
      "Extracting BMR097\n",
      "Extracting BMR008\n",
      "Extracting BMR015\n",
      "Extracting BMR033\n",
      "Extracting BMR064\n",
      "Extracting BMR055\n",
      "Extracting BMR041\n",
      "Extracting BMR053\n",
      "Extracting BMR018\n",
      "Extracting BMR058\n",
      "Extracting BMR040\n",
      "Done extracting features\n"
     ]
    }
   ],
   "source": [
    "features_dataset = extract_features_from_all_correspondents()"
   ]
  },
  {
   "cell_type": "markdown",
   "metadata": {},
   "source": [
    "# model preperation"
   ]
  },
  {
   "cell_type": "code",
   "execution_count": 6,
   "metadata": {},
   "outputs": [],
   "source": [
    "features_dataset[activity_columns] = 0\n",
    "\n",
    "features_dataset.loc[(features_dataset['activiteit'] == 'lopen'), 'activity_walking'] = 1\n",
    "features_dataset.loc[(features_dataset['activiteit'] == 'rennen'), 'activity_running'] = 1\n",
    "features_dataset.loc[(features_dataset['activiteit'] == 'springen'), 'activity_jumping'] = 1\n",
    "features_dataset.loc[(features_dataset['activiteit'] == 'staan'), 'activity_standing'] = 1\n",
    "features_dataset.loc[(features_dataset['activiteit'] == 'traplopen'), 'activity_traplopen'] = 1\n",
    "features_dataset.loc[(features_dataset['activiteit'] == 'zitten'), 'activity_sitten'] = 1\n",
    "features_dataset.loc[(features_dataset['activiteit'] == 'fietsen licht'), 'cycling_light'] = 1\n",
    "features_dataset.loc[(features_dataset['activiteit'] == 'fietsen zwaar'), 'cycling_hard'] = 1\n",
    "\n",
    "features_dataset.drop('activiteit', axis=1, inplace=True)\n",
    "features_dataset.dropna(how='any', inplace=True)"
   ]
  },
  {
   "cell_type": "markdown",
   "metadata": {},
   "source": [
    "## Preparing feature dataset for learning\n",
    "### Splitting in x and y"
   ]
  },
  {
   "cell_type": "code",
   "execution_count": 7,
   "metadata": {
    "scrolled": true
   },
   "outputs": [],
   "source": [
    "x = features_dataset[features_columns[:-1]]\n",
    "y = features_dataset[activity_columns]\n",
    "\n",
    "train_x, valid_x, train_y, valid_y = train_test_split(x,y, test_size=0.2, random_state=23, stratify=y)"
   ]
  },
  {
   "cell_type": "markdown",
   "metadata": {},
   "source": [
    "# Random tree forest"
   ]
  },
  {
   "cell_type": "code",
   "execution_count": 8,
   "metadata": {},
   "outputs": [
    {
     "data": {
      "text/plain": [
       "RandomForestClassifier(n_estimators=287, random_state=0)"
      ]
     },
     "execution_count": 8,
     "metadata": {},
     "output_type": "execute_result"
    }
   ],
   "source": [
    "ftc = RandomForestClassifier(n_estimators=287, random_state=0)\n",
    "ftc.fit(train_x, train_y)"
   ]
  },
  {
   "cell_type": "markdown",
   "metadata": {},
   "source": [
    "##  Validation result"
   ]
  },
  {
   "cell_type": "code",
   "execution_count": 9,
   "metadata": {},
   "outputs": [],
   "source": [
    "prediction_y = ftc.predict(valid_x)"
   ]
  },
  {
   "cell_type": "markdown",
   "metadata": {},
   "source": [
    "#### Accuracy"
   ]
  },
  {
   "cell_type": "code",
   "execution_count": 10,
   "metadata": {},
   "outputs": [
    {
     "data": {
      "text/plain": [
       "0.923578751164958"
      ]
     },
     "execution_count": 10,
     "metadata": {},
     "output_type": "execute_result"
    }
   ],
   "source": [
    "accuracy_score(valid_y, prediction_y, normalize=True)"
   ]
  },
  {
   "cell_type": "markdown",
   "metadata": {},
   "source": [
    "#### Classification report "
   ]
  },
  {
   "cell_type": "code",
   "execution_count": 11,
   "metadata": {
    "scrolled": false
   },
   "outputs": [
    {
     "name": "stdout",
     "output_type": "stream",
     "text": [
      "                    precision    recall  f1-score   support\n",
      "\n",
      "     cycling_light       0.89      0.91      0.90       167\n",
      "      cycling_hard       0.91      0.89      0.90       166\n",
      "  activity_walking       0.94      0.95      0.94       170\n",
      "  activity_running       0.98      0.95      0.97       168\n",
      "  activity_jumping       0.96      0.76      0.85        34\n",
      " activity_standing       0.95      0.98      0.96       166\n",
      "activity_traplopen       0.95      0.58      0.72        36\n",
      "   activity_sitten       0.99      0.98      0.98       166\n",
      "\n",
      "         micro avg       0.94      0.92      0.93      1073\n",
      "         macro avg       0.95      0.87      0.90      1073\n",
      "      weighted avg       0.95      0.92      0.93      1073\n",
      "       samples avg       0.92      0.92      0.92      1073\n",
      "\n"
     ]
    }
   ],
   "source": [
    "print(classification_report(valid_y,prediction_y, target_names=activity_columns, zero_division=0))"
   ]
  },
  {
   "cell_type": "markdown",
   "metadata": {},
   "source": [
    "### Confusion matrix"
   ]
  },
  {
   "cell_type": "code",
   "execution_count": 12,
   "metadata": {},
   "outputs": [
    {
     "data": {
      "text/plain": [
       "Text(69.0, 0.5, 'true label')"
      ]
     },
     "execution_count": 12,
     "metadata": {},
     "output_type": "execute_result"
    },
    {
     "data": {
      "image/png": "[encoded data removed]",
      "text/plain": [
       "<Figure size 720x504 with 2 Axes>"
      ]
     },
     "metadata": {
      "needs_background": "light"
     },
     "output_type": "display_data"
    }
   ],
   "source": [
    "import seaborn as sn\n",
    "\n",
    "#confusion_matrix(valid_y, prediction_y)\n",
    "cm = confusion_matrix(valid_y.values.argmax(axis=1), prediction_y.argmax(axis=1), normalize='true')\n",
    "\n",
    "df_cm = pd.DataFrame(cm, index=activities, columns=activities)\n",
    "df_cm.head()\n",
    "plt.figure(figsize = (10,7))\n",
    "sn.heatmap(df_cm, annot=True, cmap='Blues')\n",
    "\n",
    "plt.title(\"Validation dataset\")\n",
    "plt.xlabel(\"predicted label\")\n",
    "plt.ylabel(\"true label\")"
   ]
  },
  {
   "cell_type": "markdown",
   "metadata": {},
   "source": [
    "## Test result"
   ]
  },
  {
   "cell_type": "code",
   "execution_count": 13,
   "metadata": {},
   "outputs": [
    {
     "name": "stdout",
     "output_type": "stream",
     "text": [
      "Extracting BMR032\n",
      "Extracting BMR042\n",
      "Extracting BMR098\n",
      "Done extracting features\n"
     ]
    }
   ],
   "source": [
    "test_dataset = extract_features_from_correspondents(test_users)\n",
    "\n",
    "test_dataset[activity_columns] = 0\n",
    "\n",
    "test_dataset.loc[(test_dataset['activiteit'] == 'lopen'), 'activity_walking'] = 1\n",
    "test_dataset.loc[(test_dataset['activiteit'] == 'rennen'), 'activity_running'] = 1\n",
    "test_dataset.loc[(test_dataset['activiteit'] == 'springen'), 'activity_jumping'] = 1\n",
    "test_dataset.loc[(test_dataset['activiteit'] == 'staan'), 'activity_standing'] = 1\n",
    "test_dataset.loc[(test_dataset['activiteit'] == 'traplopen'), 'activity_traplopen'] = 1\n",
    "test_dataset.loc[(test_dataset['activiteit'] == 'zitten'), 'activity_sitten'] = 1\n",
    "test_dataset.loc[(test_dataset['activiteit'] == 'fietsen licht'), 'cycling_light'] = 1\n",
    "test_dataset.loc[(test_dataset['activiteit'] == 'fietsen zwaar'), 'cycling_hard'] = 1\n",
    "\n",
    "test_dataset.drop('activiteit', axis=1, inplace=True)\n",
    "test_dataset.dropna(how='any', inplace=True)\n",
    "\n",
    "x = test_dataset[features_columns[:-1]]\n",
    "y = test_dataset[activity_columns]"
   ]
  },
  {
   "cell_type": "code",
   "execution_count": 14,
   "metadata": {},
   "outputs": [],
   "source": [
    "test_prediction_y = ftc.predict(x)"
   ]
  },
  {
   "cell_type": "code",
   "execution_count": 16,
   "metadata": {},
   "outputs": [
    {
     "data": {
      "text/plain": [
       "0.7977346278317152"
      ]
     },
     "execution_count": 16,
     "metadata": {},
     "output_type": "execute_result"
    }
   ],
   "source": [
    "accuracy_score(y, test_prediction_y, normalize=True)"
   ]
  },
  {
   "cell_type": "code",
   "execution_count": 17,
   "metadata": {},
   "outputs": [
    {
     "name": "stdout",
     "output_type": "stream",
     "text": [
      "                    precision    recall  f1-score   support\n",
      "\n",
      "     cycling_light       0.71      0.59      0.65        96\n",
      "      cycling_hard       0.64      0.70      0.67        96\n",
      "  activity_walking       0.90      0.64      0.75        98\n",
      "  activity_running       0.99      1.00      0.99        96\n",
      "  activity_jumping       0.89      0.53      0.67        15\n",
      " activity_standing       1.00      0.98      0.99        96\n",
      "activity_traplopen       0.93      0.52      0.67        25\n",
      "   activity_sitten       1.00      0.99      0.99        96\n",
      "\n",
      "         micro avg       0.87      0.80      0.83       618\n",
      "         macro avg       0.88      0.74      0.80       618\n",
      "      weighted avg       0.88      0.80      0.83       618\n",
      "       samples avg       0.80      0.80      0.80       618\n",
      "\n"
     ]
    }
   ],
   "source": [
    "print(classification_report(y,test_prediction_y, target_names=activity_columns, zero_division=0))"
   ]
  },
  {
   "cell_type": "code",
   "execution_count": null,
   "metadata": {},
   "outputs": [],
   "source": []
  }
 ],
 "metadata": {
  "kernelspec": {
   "display_name": "Python 3",
   "language": "python",
   "name": "python3"
  },
  "language_info": {
   "codemirror_mode": {
    "name": "ipython",
    "version": 3
   },
   "file_extension": ".py",
   "mimetype": "text/x-python",
   "name": "python",
   "nbconvert_exporter": "python",
   "pygments_lexer": "ipython3",
   "version": "3.6.10"
  }
 },
 "nbformat": 4,
 "nbformat_minor": 4
}
